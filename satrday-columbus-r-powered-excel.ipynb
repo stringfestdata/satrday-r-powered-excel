{
 "cells": [
  {
   "cell_type": "markdown",
   "metadata": {},
   "source": [
    "<img src=\"images/satrday-cover.png\" width=\"700\">\n",
    "\n",
    "\n",
    "### George Mount\n",
    "### Stringfest Analytics\n",
    "### [stringfestanalytics.com](https://georgejmount.com)"
   ]
  },
  {
   "cell_type": "markdown",
   "metadata": {},
   "source": [
    "# Objectives for today\n",
    "\n",
    "- Why \"R-Powered Excel?\"\n",
    "- A tour of the landscape\n",
    "- Write a formatted data frame, plot and regression results to a workbook\n",
    "- Resources for future learning"
   ]
  },
  {
   "cell_type": "markdown",
   "metadata": {},
   "source": [
    "# Follow along!\n",
    "\n",
    "Run this notebook on Binder at the [GitHub repo](https://github.com/stringfestdata/satrday-r-powered-excel)"
   ]
  },
  {
   "cell_type": "markdown",
   "metadata": {},
   "source": [
    "## R, Excel and the \"data analytics stack\"\n",
    "\n",
    "\n",
    "<img src=\"images/data-analytics-stack.png\" width=\"400\">\n",
    "\n",
    "\n",
    "Source: [\"The Data Products Venn Diagram,\" Data Community DC](https://www.datacommunitydc.org/blog/2013/09/the-data-products-venn-diagram)"
   ]
  },
  {
   "cell_type": "markdown",
   "metadata": {},
   "source": [
    "# CRAN does not disappoint for R/Excel interfaces:\n",
    "\n",
    "- `gdata` (Perl required)\n",
    "- `readxl` \n",
    "- `openxlsx` \n",
    "- `writexls` (Perl required)\n",
    "- `XlConnect` (rJava required)\n",
    "- `xlsx` (rJava required)\n",
    "- `excel.link`\n",
    "- etc...\n"
   ]
  },
  {
   "cell_type": "markdown",
   "metadata": {},
   "source": [
    "## For most features with fewest external dependencies go with...\n",
    "\n",
    "- `readxl`: A *read-only* Excel package from the `tidyverse`\n",
    "- `openxlsx`: Full-service \"R-powered Excel\"  (The focus of this workshop)"
   ]
  },
  {
   "cell_type": "markdown",
   "metadata": {},
   "source": [
    "# The basic workflow:\n",
    "\n",
    "- Create a blank workbook with `createWorkbook()`\n",
    "- Add worksheets with `addWorksheet()`\n",
    "- Add various data frames, plots, summaries, etc.\n",
    "- Save workbook with `saveWorkbook()`\n",
    "\n",
    "Let's give it a spin with the `mpg` dataset:"
   ]
  },
  {
   "cell_type": "code",
   "execution_count": null,
   "metadata": {},
   "outputs": [],
   "source": [
    "# To interface with Excel\n",
    "library(openxlsx)\n",
    "# For data manipulation & visualization\n",
    "library(tidyverse)\n",
    "# For \"tidying\" regression output\n",
    "library(broom)\n",
    "\n",
    "mpg = read_csv('https://raw.githubusercontent.com/mwaskom/seaborn-data/master/mpg.csv')\n",
    "\n",
    "head(mpg)"
   ]
  },
  {
   "cell_type": "markdown",
   "metadata": {},
   "source": [
    "### The `data` worksheet\n",
    "\n",
    "First we'll set up objects referring to our workbook and worksheet, respectively. "
   ]
  },
  {
   "cell_type": "code",
   "execution_count": null,
   "metadata": {},
   "outputs": [],
   "source": [
    "# Add workbook\n",
    "wb <- createWorkbook()\n",
    "\n",
    "# Add worksheet of raw data\n",
    "data_sheet <- addWorksheet(wb, sheetName = 'data')"
   ]
  },
  {
   "cell_type": "markdown",
   "metadata": {},
   "source": [
    "Next, we'll use the `writeDataTable()` function to write `mpg` to this worksheet as an Excel table. "
   ]
  },
  {
   "cell_type": "code",
   "execution_count": null,
   "metadata": {},
   "outputs": [],
   "source": [
    "# Exclude row names\n",
    "writeDataTable(wb, sheet = data_sheet, x = mpg, rowNames = FALSE)"
   ]
  },
  {
   "cell_type": "markdown",
   "metadata": {},
   "source": [
    "Pretty much anything you could do to a workbook from Excel, you can do from `openxlsx`. \n",
    "\n",
    "For example, let's apply conditional formatting to the `name` column for observations starting with the phrase `ford`:"
   ]
  },
  {
   "cell_type": "code",
   "execution_count": null,
   "metadata": {},
   "outputs": [],
   "source": [
    "# Create conditional formatting style\n",
    "fordStyle <- createStyle(fontColour = \"#006100\", bgFill = \"#C6EFCE\")\n",
    "\n",
    "conditionalFormatting(wb, sheet = data_sheet, \n",
    "                  # Find the index position of weight\n",
    "                  cols = which(colnames(mpg) == 'name'),\n",
    "                  # Format from rows 2 through the end of mpg (account for header)\n",
    "                  rows = 2:(nrow(mpg) + 1),\n",
    "                  # What type of rule is this?\n",
    "                  type = 'beginsWith',\n",
    "                  # What is the rule?\n",
    "                  rule = 'ford',\n",
    "                  # Apply style\n",
    "                  style = fordStyle)"
   ]
  },
  {
   "cell_type": "markdown",
   "metadata": {},
   "source": [
    "### The `analysis` worksheet\n",
    "\n",
    "I would also like to include an `analysis` worksheet including regression results and a scatterplot of the relationship between `mpg` and `weight`. \n",
    "\n",
    "We can set up a new worksheet, add the results of the regression with `writeData()` and add the scatterplot with `writePlot()` "
   ]
  },
  {
   "cell_type": "code",
   "execution_count": null,
   "metadata": {},
   "outputs": [],
   "source": [
    "# Set up a new worksheet \n",
    "analysis_sheet <- addWorksheet(wb, sheetName = 'analysis')"
   ]
  },
  {
   "cell_type": "code",
   "execution_count": null,
   "metadata": {},
   "outputs": [],
   "source": [
    "# Build a tidy lm regression output\n",
    "mpg_lm <- lm(mpg ~ weight, data = mpg)\n",
    "mpg_lm_tidy  <-  tidy(mpg_lm)\n",
    "\n",
    "mpg_lm_tidy\n",
    "\n",
    "# Add the table to this worksheet\n",
    "writeDataTable(wb, sheet = analysis_sheet, x = mpg_lm_tidy, rowNames = FALSE)"
   ]
  },
  {
   "cell_type": "code",
   "execution_count": null,
   "metadata": {},
   "outputs": [],
   "source": [
    "# Visualize the results\n",
    "ggplot(data = mpg, aes(x = weight, y = mpg))+\n",
    "    geom_point()+\n",
    "    geom_smooth(method = 'lm')\n",
    "\n",
    "# Add the image to the worksheet, set the placement\n",
    "insertPlot(wb, sheet = analysis_sheet, startRow = 5, startCol = \"A\", width = 4, height = 4)"
   ]
  },
  {
   "cell_type": "markdown",
   "metadata": {},
   "source": [
    "### Admire our work, part 1\n",
    "\n",
    "OK, let's save and view our work. By default, `saveWorkbook()` will put the file in our working directory.\n",
    "\n",
    "Let's take a look at the finished output in Excel."
   ]
  },
  {
   "cell_type": "code",
   "execution_count": null,
   "metadata": {},
   "outputs": [],
   "source": [
    "mpg_report = 'mpg-report.xlsx'\n",
    "\n",
    "# save workbook to working directory\n",
    "saveWorkbook(wb = wb, file = mpg_report, overwrite = TRUE)"
   ]
  },
  {
   "cell_type": "markdown",
   "metadata": {},
   "source": [
    "It's pretty good! But as a matter of fact I would like to do a few more things to the workbook:\n",
    "\n",
    "- Freeze panes in each worksheet\n",
    "- Autofit the column widths in each worksheet\n",
    "- Format the `weight` column in thousands and `acceleration` with a decimal in the `data` worksheet. \n",
    "\n",
    "The connection from R to our workbook is still open in our session; as long as our workbook remains closed, these additinoal changes will be applied to the workbook.\n",
    "\n",
    "Let's give it a go:"
   ]
  },
  {
   "cell_type": "code",
   "execution_count": null,
   "metadata": {},
   "outputs": [],
   "source": [
    "for (sheet in getSheetNames(mpg_report)){\n",
    "    freezePane(wb, sheet = sheet, firstRow = TRUE)\n",
    "}"
   ]
  },
  {
   "cell_type": "code",
   "execution_count": null,
   "metadata": {},
   "outputs": [],
   "source": [
    "thousands <- createStyle(numFmt = \"#,##0\")\n",
    "\n",
    "addStyle(wb, sheet = data_sheet, style = thousands, cols = which(colnames(mpg) == 'weight'), rows = 1:nrow(mpg))"
   ]
  },
  {
   "cell_type": "code",
   "execution_count": null,
   "metadata": {},
   "outputs": [],
   "source": [
    "setColWidths(wb, sheet = data_sheet, cols = ncol(mpg), widths = \"auto\")"
   ]
  },
  {
   "cell_type": "markdown",
   "metadata": {},
   "source": [
    "Let's try this again!\n",
    "\n",
    "This time, let's use `openXL()` to launch the workbook directly from R."
   ]
  },
  {
   "cell_type": "code",
   "execution_count": null,
   "metadata": {},
   "outputs": [],
   "source": [
    "mpg_report = 'mpg-report.xlsx'\n",
    "\n",
    "saveWorkbook(wb = wb, file = mpg_report, overwrite = TRUE)\n",
    "\n",
    "openXL(mpg_report)"
   ]
  },
  {
   "cell_type": "markdown",
   "metadata": {},
   "source": [
    "### Encore: write to multiple workbooks\n",
    "\n",
    "Finally, we can write to multiple worksheets by splitting our data frame into a list based on the `origin` variable. We'll then write each data frame in the list to its own workbook.\n",
    "\n",
    "<font color='gray'>*This is my \"loopy\" base R way of doing it; suggestions for improvement welcome!*</font>"
   ]
  },
  {
   "cell_type": "code",
   "execution_count": null,
   "metadata": {},
   "outputs": [],
   "source": [
    "mpg_split <- split(mpg, mpg$origin)\n",
    "mpg_split"
   ]
  },
  {
   "cell_type": "code",
   "execution_count": null,
   "metadata": {},
   "outputs": [],
   "source": [
    "# Check the home directory for these files\n",
    "ws_counter <- 1\n",
    "\n",
    "for(ws in mpg_split){\n",
    "  write.xlsx(ws, file = paste0(names(mpg_split)[ws_counter],'.xlsx'), asTable = TRUE)\n",
    "  ws_counter <- ws_counter + 1} "
   ]
  },
  {
   "cell_type": "code",
   "execution_count": null,
   "metadata": {},
   "outputs": [],
   "source": [
    "split(mpg, mpg$origin) %>%\n",
    "  map(~ write_csv(., file = paste0(.,'.xlsx')))"
   ]
  },
  {
   "cell_type": "code",
   "execution_count": null,
   "metadata": {},
   "outputs": [],
   "source": [
    "getwd()"
   ]
  },
  {
   "cell_type": "code",
   "execution_count": null,
   "metadata": {},
   "outputs": [],
   "source": [
    "# https://luisdva.github.io/rstats/export-iteratively/\n",
    "# load libraries\n",
    "library(dplyr)  \n",
    "library(purrr)\n",
    "library(tidyr)\n",
    "library(readr)\n",
    "\n",
    "# read csv from web\n",
    "batRecs <- read.csv(\"https://raw.githubusercontent.com/luisDVA/codeluis/master/batRecords.csv\",stringsAsFactors = FALSE)\n",
    "\n",
    "# preview how many files we should be ending up with\n",
    "batRecs %>% count(family)\n",
    "\n",
    "\n",
    "# drop na, split, remove duplicates, write to disk\n",
    "batRecs %>%  drop_na() %>% \n",
    "  group_by(family) %>% group_map(~distinct(.x,decimal_latitude,decimal_longitude,.keep_all=TRUE),keep = TRUE) %>% \n",
    "  walk(~.x %>%  write.xlsx(., path = paste0(\"dec_\",unique(.x$family),\".csv\")))"
   ]
  },
  {
   "cell_type": "code",
   "execution_count": null,
   "metadata": {},
   "outputs": [],
   "source": [
    "head(batRecs)"
   ]
  },
  {
   "cell_type": "markdown",
   "metadata": {},
   "source": [
    "# Questions?"
   ]
  },
  {
   "cell_type": "markdown",
   "metadata": {},
   "source": [
    "# Recommended resources:  \n",
    "\n"
   ]
  },
  {
   "cell_type": "markdown",
   "metadata": {},
   "source": [
    "## 1. `browseVignettes()`"
   ]
  },
  {
   "cell_type": "code",
   "execution_count": null,
   "metadata": {},
   "outputs": [],
   "source": [
    "# This takes a while to run in Jupyter...\n",
    "browseVignettes(package = c('readxl', 'openxlsx'))"
   ]
  },
  {
   "cell_type": "markdown",
   "metadata": {},
   "source": [
    "## 2. [R & Excel -- LondonR meetup presentation by UBS analysts](https://www.londonr.org/wp-content/uploads/sites/2/presentations/LondonR_-_R_&_Excel_-_David_Jessop_-_20170713.pdf)\n",
    "\n",
    "\n",
    "![UBS R Excel](images/ubs-r-excel.png)"
   ]
  },
  {
   "cell_type": "markdown",
   "metadata": {},
   "source": [
    "## 3. In case you're interested in running R on Jupyter:\n",
    "\n",
    "- Download `IRkernel` package from CRAN ([instructions here](https://irkernel.github.io/installation/))"
   ]
  },
  {
   "cell_type": "markdown",
   "metadata": {},
   "source": [
    "## 4. In case you're interested in running R on Binder:\n",
    "\n",
    "- You need a `runtime.txt` file and optionally an `install.R` file\n",
    "- [Full instructions here](https://github.com/binder-examples/r)"
   ]
  },
  {
   "cell_type": "markdown",
   "metadata": {},
   "source": [
    "## 4. In case you're interested in \"Python-Powered Excel\"\n",
    "\n",
    "- _Python for Excel_ by Felix Zumstein (forthcoming, O'Reilly Media)\n",
    "\n",
    "\n",
    "![Python for Excel cover](images/python-for-excel.jpg)"
   ]
  },
  {
   "cell_type": "markdown",
   "metadata": {},
   "source": [
    "# THANK YOU\n",
    "\n",
    "### George Mount\n",
    "### Stringfest Analytics\n",
    "### [stringfestanalytics.com](https://georgejmount.com)\n",
    "### [linkedin.com/in/gjmount](https://www.linkedin.com/in/gjmount/)\n"
   ]
  },
  {
   "cell_type": "code",
   "execution_count": null,
   "metadata": {},
   "outputs": [],
   "source": []
  }
 ],
 "metadata": {
  "kernelspec": {
   "display_name": "R",
   "language": "R",
   "name": "ir"
  },
  "language_info": {
   "codemirror_mode": "r",
   "file_extension": ".r",
   "mimetype": "text/x-r-source",
   "name": "R",
   "pygments_lexer": "r",
   "version": "4.0.2"
  }
 },
 "nbformat": 4,
 "nbformat_minor": 4
}
