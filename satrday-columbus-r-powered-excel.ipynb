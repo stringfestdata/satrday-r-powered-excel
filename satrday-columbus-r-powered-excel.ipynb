{
 "cells": [
  {
   "cell_type": "markdown",
   "metadata": {},
   "source": [
    "<img src=\"images/satrday-cover.png\" width=\"700\">\n",
    "\n",
    "\n",
    "### George Mount\n",
    "### Stringfest Analytics\n",
    "### [stringfestanalytics.com](https://georgejmount.com)"
   ]
  },
  {
   "cell_type": "markdown",
   "metadata": {},
   "source": [
    "# Objectives for today\n",
    "\n",
    "- Why \"R-Powered Excel?\"\n",
    "- A tour of the landscape\n",
    "- Write a formatted data frame, plot and regression results to a workbook\n",
    "- Split a data frame by level and write each to a workbook\n",
    "- Resources for future learning"
   ]
  },
  {
   "cell_type": "markdown",
   "metadata": {},
   "source": [
    "# Follow along!\n",
    "\n",
    "Run this notebook on Binder at the [GitHub repo](https://github.com/stringfestdata/satrday-r-powered-excel). *It could take a while to build...*"
   ]
  },
  {
   "cell_type": "markdown",
   "metadata": {},
   "source": [
    "## R, Excel and the \"data analytics stack\"\n",
    "\n",
    "\n",
    "<img src=\"images/data-analytics-stack.png\" width=\"400\">\n",
    "\n",
    "\n",
    "Source: [\"The Data Products Venn Diagram,\" Data Community DC](https://www.datacommunitydc.org/blog/2013/09/the-data-products-venn-diagram)"
   ]
  },
  {
   "cell_type": "markdown",
   "metadata": {},
   "source": [
    "# CRAN does not disappoint for R/Excel interfaces:\n",
    "\n",
    "- `gdata` (Perl required)\n",
    "- `readxl` \n",
    "- `openxlsx` \n",
    "- `writexls` (Perl required)\n",
    "- `XlConnect` (rJava required)\n",
    "- `xlsx` (rJava required)\n",
    "- `excel.link`\n",
    "- etc...\n"
   ]
  },
  {
   "cell_type": "markdown",
   "metadata": {},
   "source": [
    "## For most features with fewest external dependencies go with...\n",
    "\n",
    "- `readxl`: A *read-only* Excel package from the `tidyverse`\n",
    "- `openxlsx`: Full-service \"R-powered Excel\"  (The focus of this workshop)"
   ]
  },
  {
   "cell_type": "markdown",
   "metadata": {},
   "source": [
    "# The basic workflow:\n",
    "\n",
    "- Create a blank workbook with `createWorkbook()`\n",
    "- Add worksheets with `addWorksheet()`\n",
    "- Add various data frames, plots, summaries, etc.\n",
    "- Save workbook with `saveWorkbook()`\n",
    "\n",
    "Let's give it a spin with the `mpg` dataset:"
   ]
  },
  {
   "cell_type": "code",
   "execution_count": 1,
   "metadata": {},
   "outputs": [
    {
     "name": "stderr",
     "output_type": "stream",
     "text": [
      "Warning message:\n",
      "\"package 'openxlsx' was built under R version 4.0.3\"\n",
      "Warning message:\n",
      "\"package 'tidyverse' was built under R version 4.0.3\"\n",
      "-- \u001b[1mAttaching packages\u001b[22m ------------------------------------------------------------------------------- tidyverse 1.3.0 --\n",
      "\n",
      "\u001b[32mv\u001b[39m \u001b[34mggplot2\u001b[39m 3.3.2     \u001b[32mv\u001b[39m \u001b[34mpurrr  \u001b[39m 0.3.4\n",
      "\u001b[32mv\u001b[39m \u001b[34mtibble \u001b[39m 3.0.4     \u001b[32mv\u001b[39m \u001b[34mdplyr  \u001b[39m 1.0.2\n",
      "\u001b[32mv\u001b[39m \u001b[34mtidyr  \u001b[39m 1.1.2     \u001b[32mv\u001b[39m \u001b[34mstringr\u001b[39m 1.4.0\n",
      "\u001b[32mv\u001b[39m \u001b[34mreadr  \u001b[39m 1.4.0     \u001b[32mv\u001b[39m \u001b[34mforcats\u001b[39m 0.5.0\n",
      "\n",
      "Warning message:\n",
      "\"package 'tibble' was built under R version 4.0.3\"\n",
      "Warning message:\n",
      "\"package 'readr' was built under R version 4.0.3\"\n",
      "-- \u001b[1mConflicts\u001b[22m ---------------------------------------------------------------------------------- tidyverse_conflicts() --\n",
      "\u001b[31mx\u001b[39m \u001b[34mdplyr\u001b[39m::\u001b[32mfilter()\u001b[39m masks \u001b[34mstats\u001b[39m::filter()\n",
      "\u001b[31mx\u001b[39m \u001b[34mdplyr\u001b[39m::\u001b[32mlag()\u001b[39m    masks \u001b[34mstats\u001b[39m::lag()\n",
      "\n",
      "Warning message:\n",
      "\"package 'broom' was built under R version 4.0.3\"\n",
      "\n",
      "\u001b[36m--\u001b[39m \u001b[1m\u001b[1mColumn specification\u001b[1m\u001b[22m \u001b[36m------------------------------------------------------------------------------------------------\u001b[39m\n",
      "cols(\n",
      "  mpg = \u001b[32mcol_double()\u001b[39m,\n",
      "  cylinders = \u001b[32mcol_double()\u001b[39m,\n",
      "  displacement = \u001b[32mcol_double()\u001b[39m,\n",
      "  horsepower = \u001b[32mcol_double()\u001b[39m,\n",
      "  weight = \u001b[32mcol_double()\u001b[39m,\n",
      "  acceleration = \u001b[32mcol_double()\u001b[39m,\n",
      "  model_year = \u001b[32mcol_double()\u001b[39m,\n",
      "  origin = \u001b[31mcol_character()\u001b[39m,\n",
      "  name = \u001b[31mcol_character()\u001b[39m\n",
      ")\n",
      "\n",
      "\n"
     ]
    },
    {
     "data": {
      "text/html": [
       "<table>\n",
       "<caption>A tibble: 6 × 9</caption>\n",
       "<thead>\n",
       "\t<tr><th scope=col>mpg</th><th scope=col>cylinders</th><th scope=col>displacement</th><th scope=col>horsepower</th><th scope=col>weight</th><th scope=col>acceleration</th><th scope=col>model_year</th><th scope=col>origin</th><th scope=col>name</th></tr>\n",
       "\t<tr><th scope=col>&lt;dbl&gt;</th><th scope=col>&lt;dbl&gt;</th><th scope=col>&lt;dbl&gt;</th><th scope=col>&lt;dbl&gt;</th><th scope=col>&lt;dbl&gt;</th><th scope=col>&lt;dbl&gt;</th><th scope=col>&lt;dbl&gt;</th><th scope=col>&lt;chr&gt;</th><th scope=col>&lt;chr&gt;</th></tr>\n",
       "</thead>\n",
       "<tbody>\n",
       "\t<tr><td>18</td><td>8</td><td>307</td><td>130</td><td>3504</td><td>12.0</td><td>70</td><td>usa</td><td>chevrolet chevelle malibu</td></tr>\n",
       "\t<tr><td>15</td><td>8</td><td>350</td><td>165</td><td>3693</td><td>11.5</td><td>70</td><td>usa</td><td>buick skylark 320        </td></tr>\n",
       "\t<tr><td>18</td><td>8</td><td>318</td><td>150</td><td>3436</td><td>11.0</td><td>70</td><td>usa</td><td>plymouth satellite       </td></tr>\n",
       "\t<tr><td>16</td><td>8</td><td>304</td><td>150</td><td>3433</td><td>12.0</td><td>70</td><td>usa</td><td>amc rebel sst            </td></tr>\n",
       "\t<tr><td>17</td><td>8</td><td>302</td><td>140</td><td>3449</td><td>10.5</td><td>70</td><td>usa</td><td>ford torino              </td></tr>\n",
       "\t<tr><td>15</td><td>8</td><td>429</td><td>198</td><td>4341</td><td>10.0</td><td>70</td><td>usa</td><td>ford galaxie 500         </td></tr>\n",
       "</tbody>\n",
       "</table>\n"
      ],
      "text/latex": [
       "A tibble: 6 × 9\n",
       "\\begin{tabular}{lllllllll}\n",
       " mpg & cylinders & displacement & horsepower & weight & acceleration & model\\_year & origin & name\\\\\n",
       " <dbl> & <dbl> & <dbl> & <dbl> & <dbl> & <dbl> & <dbl> & <chr> & <chr>\\\\\n",
       "\\hline\n",
       "\t 18 & 8 & 307 & 130 & 3504 & 12.0 & 70 & usa & chevrolet chevelle malibu\\\\\n",
       "\t 15 & 8 & 350 & 165 & 3693 & 11.5 & 70 & usa & buick skylark 320        \\\\\n",
       "\t 18 & 8 & 318 & 150 & 3436 & 11.0 & 70 & usa & plymouth satellite       \\\\\n",
       "\t 16 & 8 & 304 & 150 & 3433 & 12.0 & 70 & usa & amc rebel sst            \\\\\n",
       "\t 17 & 8 & 302 & 140 & 3449 & 10.5 & 70 & usa & ford torino              \\\\\n",
       "\t 15 & 8 & 429 & 198 & 4341 & 10.0 & 70 & usa & ford galaxie 500         \\\\\n",
       "\\end{tabular}\n"
      ],
      "text/markdown": [
       "\n",
       "A tibble: 6 × 9\n",
       "\n",
       "| mpg &lt;dbl&gt; | cylinders &lt;dbl&gt; | displacement &lt;dbl&gt; | horsepower &lt;dbl&gt; | weight &lt;dbl&gt; | acceleration &lt;dbl&gt; | model_year &lt;dbl&gt; | origin &lt;chr&gt; | name &lt;chr&gt; |\n",
       "|---|---|---|---|---|---|---|---|---|\n",
       "| 18 | 8 | 307 | 130 | 3504 | 12.0 | 70 | usa | chevrolet chevelle malibu |\n",
       "| 15 | 8 | 350 | 165 | 3693 | 11.5 | 70 | usa | buick skylark 320         |\n",
       "| 18 | 8 | 318 | 150 | 3436 | 11.0 | 70 | usa | plymouth satellite        |\n",
       "| 16 | 8 | 304 | 150 | 3433 | 12.0 | 70 | usa | amc rebel sst             |\n",
       "| 17 | 8 | 302 | 140 | 3449 | 10.5 | 70 | usa | ford torino               |\n",
       "| 15 | 8 | 429 | 198 | 4341 | 10.0 | 70 | usa | ford galaxie 500          |\n",
       "\n"
      ],
      "text/plain": [
       "  mpg cylinders displacement horsepower weight acceleration model_year origin\n",
       "1 18  8         307          130        3504   12.0         70         usa   \n",
       "2 15  8         350          165        3693   11.5         70         usa   \n",
       "3 18  8         318          150        3436   11.0         70         usa   \n",
       "4 16  8         304          150        3433   12.0         70         usa   \n",
       "5 17  8         302          140        3449   10.5         70         usa   \n",
       "6 15  8         429          198        4341   10.0         70         usa   \n",
       "  name                     \n",
       "1 chevrolet chevelle malibu\n",
       "2 buick skylark 320        \n",
       "3 plymouth satellite       \n",
       "4 amc rebel sst            \n",
       "5 ford torino              \n",
       "6 ford galaxie 500         "
      ]
     },
     "metadata": {},
     "output_type": "display_data"
    }
   ],
   "source": [
    "# To interface with Excel\n",
    "library(openxlsx)\n",
    "# For data manipulation & visualization\n",
    "library(tidyverse)\n",
    "# For \"tidying\" regression output\n",
    "library(broom)\n",
    "\n",
    "mpg <- read_csv('https://raw.githubusercontent.com/mwaskom/seaborn-data/master/mpg.csv')\n",
    "\n",
    "head(mpg)"
   ]
  },
  {
   "cell_type": "markdown",
   "metadata": {},
   "source": [
    "### The `data` worksheet\n",
    "\n",
    "First we'll set up objects referring to our workbook and worksheet, respectively. "
   ]
  },
  {
   "cell_type": "code",
   "execution_count": 2,
   "metadata": {},
   "outputs": [],
   "source": [
    "# Add workbook\n",
    "wb <- createWorkbook()\n",
    "\n",
    "# Add worksheet of raw data\n",
    "data_sheet <- addWorksheet(wb, sheetName = 'data')"
   ]
  },
  {
   "cell_type": "markdown",
   "metadata": {},
   "source": [
    "Next, we'll use the `writeDataTable()` function to write `mpg` to this worksheet as an Excel table. "
   ]
  },
  {
   "cell_type": "code",
   "execution_count": 3,
   "metadata": {},
   "outputs": [],
   "source": [
    "# Exclude row names\n",
    "writeDataTable(wb, sheet = data_sheet, x = mpg, rowNames = FALSE)"
   ]
  },
  {
   "cell_type": "markdown",
   "metadata": {},
   "source": [
    "Pretty much anything you could do to a workbook from Excel, you can do from `openxlsx`. \n",
    "\n",
    "For example, let's apply conditional formatting to the `name` column for observations starting with the phrase `ford`:"
   ]
  },
  {
   "cell_type": "code",
   "execution_count": 4,
   "metadata": {},
   "outputs": [],
   "source": [
    "# Create conditional formatting style\n",
    "fordStyle <- createStyle(fontColour = \"#006100\", bgFill = \"#C6EFCE\")\n",
    "\n",
    "conditionalFormatting(wb, sheet = data_sheet, \n",
    "                  # Find the index position of weight\n",
    "                  cols = which(colnames(mpg) == 'name'),\n",
    "                  # Format from rows 2 through the end of mpg (account for header)\n",
    "                  rows = 2:(nrow(mpg) + 1),\n",
    "                  # What type of rule is this?\n",
    "                  type = 'beginsWith',\n",
    "                  # What is the rule?\n",
    "                  rule = 'ford',\n",
    "                  # Apply style\n",
    "                  style = fordStyle)"
   ]
  },
  {
   "cell_type": "markdown",
   "metadata": {},
   "source": [
    "### The `analysis` worksheet\n",
    "\n",
    "I would also like to include an `analysis` worksheet including regression results and a scatterplot of the relationship between `mpg` and `weight`. \n",
    "\n",
    "We can set up a new worksheet, add the results of the regression with `writeData()` and add the scatterplot with `writePlot()` "
   ]
  },
  {
   "cell_type": "code",
   "execution_count": 5,
   "metadata": {},
   "outputs": [],
   "source": [
    "# Set up a new worksheet \n",
    "analysis_sheet <- addWorksheet(wb, sheetName = 'analysis')"
   ]
  },
  {
   "cell_type": "code",
   "execution_count": 6,
   "metadata": {},
   "outputs": [
    {
     "data": {
      "text/html": [
       "<table>\n",
       "<caption>A tibble: 2 × 5</caption>\n",
       "<thead>\n",
       "\t<tr><th scope=col>term</th><th scope=col>estimate</th><th scope=col>std.error</th><th scope=col>statistic</th><th scope=col>p.value</th></tr>\n",
       "\t<tr><th scope=col>&lt;chr&gt;</th><th scope=col>&lt;dbl&gt;</th><th scope=col>&lt;dbl&gt;</th><th scope=col>&lt;dbl&gt;</th><th scope=col>&lt;dbl&gt;</th></tr>\n",
       "</thead>\n",
       "<tbody>\n",
       "\t<tr><td>(Intercept)</td><td>46.31736442</td><td>0.7952452295</td><td> 58.24287</td><td>2.753438e-196</td></tr>\n",
       "\t<tr><td>weight     </td><td>-0.00767661</td><td>0.0002574869</td><td>-29.81360</td><td>2.972800e-103</td></tr>\n",
       "</tbody>\n",
       "</table>\n"
      ],
      "text/latex": [
       "A tibble: 2 × 5\n",
       "\\begin{tabular}{lllll}\n",
       " term & estimate & std.error & statistic & p.value\\\\\n",
       " <chr> & <dbl> & <dbl> & <dbl> & <dbl>\\\\\n",
       "\\hline\n",
       "\t (Intercept) & 46.31736442 & 0.7952452295 &  58.24287 & 2.753438e-196\\\\\n",
       "\t weight      & -0.00767661 & 0.0002574869 & -29.81360 & 2.972800e-103\\\\\n",
       "\\end{tabular}\n"
      ],
      "text/markdown": [
       "\n",
       "A tibble: 2 × 5\n",
       "\n",
       "| term &lt;chr&gt; | estimate &lt;dbl&gt; | std.error &lt;dbl&gt; | statistic &lt;dbl&gt; | p.value &lt;dbl&gt; |\n",
       "|---|---|---|---|---|\n",
       "| (Intercept) | 46.31736442 | 0.7952452295 |  58.24287 | 2.753438e-196 |\n",
       "| weight      | -0.00767661 | 0.0002574869 | -29.81360 | 2.972800e-103 |\n",
       "\n"
      ],
      "text/plain": [
       "  term        estimate    std.error    statistic p.value      \n",
       "1 (Intercept) 46.31736442 0.7952452295  58.24287 2.753438e-196\n",
       "2 weight      -0.00767661 0.0002574869 -29.81360 2.972800e-103"
      ]
     },
     "metadata": {},
     "output_type": "display_data"
    }
   ],
   "source": [
    "# Build a tidy lm regression output\n",
    "mpg_lm <- lm(mpg ~ weight, data = mpg)\n",
    "mpg_lm_tidy  <-  tidy(mpg_lm)\n",
    "\n",
    "mpg_lm_tidy\n",
    "\n",
    "# Add the table to this worksheet\n",
    "writeDataTable(wb, sheet = analysis_sheet, x = mpg_lm_tidy, rowNames = FALSE)"
   ]
  },
  {
   "cell_type": "code",
   "execution_count": 7,
   "metadata": {},
   "outputs": [
    {
     "name": "stderr",
     "output_type": "stream",
     "text": [
      "`geom_smooth()` using formula 'y ~ x'\n",
      "\n"
     ]
    },
    {
     "data": {
      "image/png": "[encoded data removed]",
      "text/plain": [
       "plot without title"
      ]
     },
     "metadata": {
      "image/png": {
       "height": 420,
       "width": 420
      }
     },
     "output_type": "display_data"
    }
   ],
   "source": [
    "# Visualize the results\n",
    "ggplot(data = mpg, aes(x = weight, y = mpg))+\n",
    "    geom_point()+\n",
    "    geom_smooth(method = 'lm')\n",
    "\n",
    "# Add the image to the worksheet, set the placement\n",
    "insertPlot(wb, sheet = analysis_sheet, startRow = 5, startCol = \"A\", width = 4, height = 4)"
   ]
  },
  {
   "cell_type": "markdown",
   "metadata": {},
   "source": [
    "### Admire our work, part 1\n",
    "\n",
    "OK, let's save and view our work. By default, `saveWorkbook()` will put the file in our working directory.\n",
    "\n",
    "Let's take a look at the finished output in Excel."
   ]
  },
  {
   "cell_type": "code",
   "execution_count": 8,
   "metadata": {},
   "outputs": [],
   "source": [
    "mpg_report = 'mpg-report.xlsx'\n",
    "\n",
    "# save workbook to working directory\n",
    "saveWorkbook(wb = wb, file = mpg_report, overwrite = TRUE)"
   ]
  },
  {
   "cell_type": "markdown",
   "metadata": {},
   "source": [
    "It's pretty good! But as a matter of fact I would like to do a few more things to the workbook:\n",
    "\n",
    "- Freeze panes in each worksheet\n",
    "- Autofit the column widths in each worksheet\n",
    "- Format the `weight` column in thousands and `acceleration` with a decimal in the `data` worksheet. \n",
    "\n",
    "The connection from R to our workbook is still open in our session; as long as our workbook remains closed, these additinoal changes will be applied to the workbook.\n",
    "\n",
    "Let's give it a go:"
   ]
  },
  {
   "cell_type": "code",
   "execution_count": 9,
   "metadata": {},
   "outputs": [],
   "source": [
    "for (sheet in getSheetNames(mpg_report)){\n",
    "    freezePane(wb, sheet = sheet, firstRow = TRUE)\n",
    "}"
   ]
  },
  {
   "cell_type": "code",
   "execution_count": 10,
   "metadata": {},
   "outputs": [],
   "source": [
    "thousands <- createStyle(numFmt = \"#,##0\")\n",
    "\n",
    "addStyle(wb, sheet = data_sheet, style = thousands, cols = which(colnames(mpg) == 'weight'), 2:(nrow(mpg) + 1))"
   ]
  },
  {
   "cell_type": "code",
   "execution_count": 11,
   "metadata": {},
   "outputs": [],
   "source": [
    "setColWidths(wb, sheet = data_sheet, cols = ncol(mpg), widths = \"auto\")"
   ]
  },
  {
   "cell_type": "markdown",
   "metadata": {},
   "source": [
    "Let's try this again!\n",
    "\n",
    "This time, let's use `openXL()` to launch the workbook directly from R."
   ]
  },
  {
   "cell_type": "code",
   "execution_count": 12,
   "metadata": {},
   "outputs": [],
   "source": [
    "mpg_report = 'mpg-report.xlsx'\n",
    "\n",
    "saveWorkbook(wb = wb, file = mpg_report, overwrite = TRUE)\n",
    "\n",
    "openXL(mpg_report)"
   ]
  },
  {
   "cell_type": "markdown",
   "metadata": {},
   "source": [
    "### Encore: write to multiple workbooks\n",
    "\n",
    "Finally, we can write to multiple worksheets by nesting the data frame and then iterating on it. We'll use the `write.xlsx()` function which allows us to write directly to a workbook without defining it."
   ]
  },
  {
   "cell_type": "code",
   "execution_count": 20,
   "metadata": {},
   "outputs": [
    {
     "name": "stderr",
     "output_type": "stream",
     "text": [
      "Warning message:\n",
      "\"All elements of `...` must be named.\n",
      "Did you want `data = c(mpg, cylinders, displacement, horsepower, weight, acceleration, \n",
      "    model_year, name)`?\"\n"
     ]
    }
   ],
   "source": [
    "mpg %>%\n",
    "  nest(-origin) %>%\n",
    "  pwalk(~write.xlsx(x = .y, file = paste0(.x, \".xlsx\"), asTable = TRUE) )"
   ]
  },
  {
   "cell_type": "markdown",
   "metadata": {},
   "source": [
    "# Questions?"
   ]
  },
  {
   "cell_type": "markdown",
   "metadata": {},
   "source": [
    "# Recommended resources:  \n",
    "\n"
   ]
  },
  {
   "cell_type": "markdown",
   "metadata": {},
   "source": [
    "## 1. `browseVignettes()`"
   ]
  },
  {
   "cell_type": "code",
   "execution_count": 21,
   "metadata": {},
   "outputs": [],
   "source": [
    "# This takes a while to run in Jupyter...\n",
    "browseVignettes(package = c('readxl', 'openxlsx'))"
   ]
  },
  {
   "cell_type": "markdown",
   "metadata": {},
   "source": [
    "## 2. [R & Excel -- LondonR meetup presentation by UBS analysts](https://www.londonr.org/wp-content/uploads/sites/2/presentations/LondonR_-_R_&_Excel_-_David_Jessop_-_20170713.pdf)\n",
    "\n",
    "\n",
    "![UBS R Excel](images/ubs-r-excel.png)"
   ]
  },
  {
   "cell_type": "markdown",
   "metadata": {},
   "source": [
    "## 3. In case you're interested in running R on Jupyter:\n",
    "\n",
    "- Download [Anaconda Individual Edition](https://www.anaconda.com/products/individual)\n",
    "- Download `IRkernel` package from CRAN ([instructions here](https://irkernel.github.io/installation/))"
   ]
  },
  {
   "cell_type": "markdown",
   "metadata": {},
   "source": [
    "## 4. In case you're interested in running R on Binder:\n",
    "\n",
    "- You need a `runtime.txt` file and optionally an `install.R` file\n",
    "- [Full instructions here](https://github.com/binder-examples/r)"
   ]
  },
  {
   "cell_type": "markdown",
   "metadata": {},
   "source": [
    "## 4. In case you're interested in \"Python-Powered Excel\"\n",
    "\n",
    "- _Python for Excel_ by Felix Zumstein (forthcoming, O'Reilly Media)\n",
    "\n",
    "\n",
    "![Python for Excel cover](images/python-for-excel.jpg)"
   ]
  },
  {
   "cell_type": "markdown",
   "metadata": {},
   "source": [
    "# THANK YOU\n",
    "\n",
    "### George Mount\n",
    "### Stringfest Analytics\n",
    "### [stringfestanalytics.com](https://georgejmount.com)\n",
    "### [linkedin.com/in/gjmount](https://www.linkedin.com/in/gjmount/)\n"
   ]
  },
  {
   "cell_type": "code",
   "execution_count": null,
   "metadata": {},
   "outputs": [],
   "source": []
  }
 ],
 "metadata": {
  "kernelspec": {
   "display_name": "R",
   "language": "R",
   "name": "ir"
  },
  "language_info": {
   "codemirror_mode": "r",
   "file_extension": ".r",
   "mimetype": "text/x-r-source",
   "name": "R",
   "pygments_lexer": "r",
   "version": "4.0.2"
  }
 },
 "nbformat": 4,
 "nbformat_minor": 4
}
