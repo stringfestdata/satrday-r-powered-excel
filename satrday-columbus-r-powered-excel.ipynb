{
 "cells": [
  {
   "cell_type": "markdown",
   "metadata": {},
   "source": [
    "<img src=\"images/satrday-cover.png\" width=\"700\">\n",
    "\n",
    "\n",
    "### George Mount\n",
    "### Stringfest Analytics\n",
    "### [stringfestanalytics.com](https://georgejmount.com)"
   ]
  },
  {
   "cell_type": "markdown",
   "metadata": {},
   "source": [
    "# Objectives for today\n",
    "\n",
    "- Why \"R-Powered Excel?\"\n",
    "- A tour of the landscape\n",
    "- Write a formatted data frame, plot and regression results to a workbook\n",
    "- Resources for future learning"
   ]
  },
  {
   "cell_type": "markdown",
   "metadata": {},
   "source": [
    "# Follow along!\n",
    "\n",
    "Run this notebook on Binder at the [GitHub repo](https://github.com/stringfestdata/satrday-r-powered-excel)"
   ]
  },
  {
   "cell_type": "markdown",
   "metadata": {},
   "source": [
    "## R, Excel and the \"data analytics stack\"\n",
    "\n",
    "\n",
    "<img src=\"images/data-analytics-stack.png\" width=\"400\">\n",
    "\n",
    "\n",
    "Source: [\"The Data Products Venn Diagram,\" Data Community DC](https://www.datacommunitydc.org/blog/2013/09/the-data-products-venn-diagram)"
   ]
  },
  {
   "cell_type": "markdown",
   "metadata": {},
   "source": [
    "# CRAN does not disappoint for R/Excel interfaces:\n",
    "\n",
    "- `gdata` (Perl required)\n",
    "- `readxl` \n",
    "- `openxlsx` \n",
    "- `writexls` (Perl required)\n",
    "- `XlConnect` (rJava required)\n",
    "- `xlsx` (rJava required)\n",
    "- `excel.link`\n",
    "- etc...\n"
   ]
  },
  {
   "cell_type": "markdown",
   "metadata": {},
   "source": [
    "## For most features with fewest external dependencies go with...\n",
    "\n",
    "- `readxl`: A *read-only* Excel package from the `tidyverse`\n",
    "- `openxlsx`: Full-service \"R-powered Excel\"  (The focus of this workshop)"
   ]
  },
  {
   "cell_type": "markdown",
   "metadata": {},
   "source": [
    "# The basic workflow:\n",
    "\n",
    "- Create a blank workbook with `createWorkbook()`\n",
    "- Add worksheets with `addWorksheet()`\n",
    "- Add various data frames, plots, summaries, etc.\n",
    "- Save workbook with `saveWorkbook()`\n",
    "\n",
    "Let's give it a spin with the `mpg` dataset:"
   ]
  },
  {
   "cell_type": "code",
   "execution_count": 1,
   "metadata": {},
   "outputs": [
    {
     "name": "stderr",
     "output_type": "stream",
     "text": [
      "Warning message:\n",
      "\"package 'tidyverse' was built under R version 3.6.2\"\n",
      "-- \u001b[1mAttaching packages\u001b[22m --------------------------------------- tidyverse 1.3.0 --\n",
      "\n",
      "\u001b[32mv\u001b[39m \u001b[34mggplot2\u001b[39m 3.2.1     \u001b[32mv\u001b[39m \u001b[34mpurrr  \u001b[39m 0.3.3\n",
      "\u001b[32mv\u001b[39m \u001b[34mtibble \u001b[39m 2.1.3     \u001b[32mv\u001b[39m \u001b[34mdplyr  \u001b[39m 0.8.3\n",
      "\u001b[32mv\u001b[39m \u001b[34mtidyr  \u001b[39m 1.0.0     \u001b[32mv\u001b[39m \u001b[34mstringr\u001b[39m 1.4.0\n",
      "\u001b[32mv\u001b[39m \u001b[34mreadr  \u001b[39m 1.3.1     \u001b[32mv\u001b[39m \u001b[34mforcats\u001b[39m 0.4.0\n",
      "\n",
      "-- \u001b[1mConflicts\u001b[22m ------------------------------------------ tidyverse_conflicts() --\n",
      "\u001b[31mx\u001b[39m \u001b[34mdplyr\u001b[39m::\u001b[32mfilter()\u001b[39m masks \u001b[34mstats\u001b[39m::filter()\n",
      "\u001b[31mx\u001b[39m \u001b[34mdplyr\u001b[39m::\u001b[32mlag()\u001b[39m    masks \u001b[34mstats\u001b[39m::lag()\n",
      "\n",
      "Parsed with column specification:\n",
      "cols(\n",
      "  mpg = \u001b[32mcol_double()\u001b[39m,\n",
      "  cylinders = \u001b[32mcol_double()\u001b[39m,\n",
      "  displacement = \u001b[32mcol_double()\u001b[39m,\n",
      "  horsepower = \u001b[32mcol_double()\u001b[39m,\n",
      "  weight = \u001b[32mcol_double()\u001b[39m,\n",
      "  acceleration = \u001b[32mcol_double()\u001b[39m,\n",
      "  model_year = \u001b[32mcol_double()\u001b[39m,\n",
      "  origin = \u001b[31mcol_character()\u001b[39m,\n",
      "  name = \u001b[31mcol_character()\u001b[39m\n",
      ")\n",
      "\n"
     ]
    },
    {
     "data": {
      "text/html": [
       "<table>\n",
       "<caption>A tibble: 6 × 9</caption>\n",
       "<thead>\n",
       "\t<tr><th scope=col>mpg</th><th scope=col>cylinders</th><th scope=col>displacement</th><th scope=col>horsepower</th><th scope=col>weight</th><th scope=col>acceleration</th><th scope=col>model_year</th><th scope=col>origin</th><th scope=col>name</th></tr>\n",
       "\t<tr><th scope=col>&lt;dbl&gt;</th><th scope=col>&lt;dbl&gt;</th><th scope=col>&lt;dbl&gt;</th><th scope=col>&lt;dbl&gt;</th><th scope=col>&lt;dbl&gt;</th><th scope=col>&lt;dbl&gt;</th><th scope=col>&lt;dbl&gt;</th><th scope=col>&lt;chr&gt;</th><th scope=col>&lt;chr&gt;</th></tr>\n",
       "</thead>\n",
       "<tbody>\n",
       "\t<tr><td>18</td><td>8</td><td>307</td><td>130</td><td>3504</td><td>12.0</td><td>70</td><td>usa</td><td>chevrolet chevelle malibu</td></tr>\n",
       "\t<tr><td>15</td><td>8</td><td>350</td><td>165</td><td>3693</td><td>11.5</td><td>70</td><td>usa</td><td>buick skylark 320        </td></tr>\n",
       "\t<tr><td>18</td><td>8</td><td>318</td><td>150</td><td>3436</td><td>11.0</td><td>70</td><td>usa</td><td>plymouth satellite       </td></tr>\n",
       "\t<tr><td>16</td><td>8</td><td>304</td><td>150</td><td>3433</td><td>12.0</td><td>70</td><td>usa</td><td>amc rebel sst            </td></tr>\n",
       "\t<tr><td>17</td><td>8</td><td>302</td><td>140</td><td>3449</td><td>10.5</td><td>70</td><td>usa</td><td>ford torino              </td></tr>\n",
       "\t<tr><td>15</td><td>8</td><td>429</td><td>198</td><td>4341</td><td>10.0</td><td>70</td><td>usa</td><td>ford galaxie 500         </td></tr>\n",
       "</tbody>\n",
       "</table>\n"
      ],
      "text/latex": [
       "A tibble: 6 × 9\n",
       "\\begin{tabular}{r|lllllllll}\n",
       " mpg & cylinders & displacement & horsepower & weight & acceleration & model\\_year & origin & name\\\\\n",
       " <dbl> & <dbl> & <dbl> & <dbl> & <dbl> & <dbl> & <dbl> & <chr> & <chr>\\\\\n",
       "\\hline\n",
       "\t 18 & 8 & 307 & 130 & 3504 & 12.0 & 70 & usa & chevrolet chevelle malibu\\\\\n",
       "\t 15 & 8 & 350 & 165 & 3693 & 11.5 & 70 & usa & buick skylark 320        \\\\\n",
       "\t 18 & 8 & 318 & 150 & 3436 & 11.0 & 70 & usa & plymouth satellite       \\\\\n",
       "\t 16 & 8 & 304 & 150 & 3433 & 12.0 & 70 & usa & amc rebel sst            \\\\\n",
       "\t 17 & 8 & 302 & 140 & 3449 & 10.5 & 70 & usa & ford torino              \\\\\n",
       "\t 15 & 8 & 429 & 198 & 4341 & 10.0 & 70 & usa & ford galaxie 500         \\\\\n",
       "\\end{tabular}\n"
      ],
      "text/markdown": [
       "\n",
       "A tibble: 6 × 9\n",
       "\n",
       "| mpg &lt;dbl&gt; | cylinders &lt;dbl&gt; | displacement &lt;dbl&gt; | horsepower &lt;dbl&gt; | weight &lt;dbl&gt; | acceleration &lt;dbl&gt; | model_year &lt;dbl&gt; | origin &lt;chr&gt; | name &lt;chr&gt; |\n",
       "|---|---|---|---|---|---|---|---|---|\n",
       "| 18 | 8 | 307 | 130 | 3504 | 12.0 | 70 | usa | chevrolet chevelle malibu |\n",
       "| 15 | 8 | 350 | 165 | 3693 | 11.5 | 70 | usa | buick skylark 320         |\n",
       "| 18 | 8 | 318 | 150 | 3436 | 11.0 | 70 | usa | plymouth satellite        |\n",
       "| 16 | 8 | 304 | 150 | 3433 | 12.0 | 70 | usa | amc rebel sst             |\n",
       "| 17 | 8 | 302 | 140 | 3449 | 10.5 | 70 | usa | ford torino               |\n",
       "| 15 | 8 | 429 | 198 | 4341 | 10.0 | 70 | usa | ford galaxie 500          |\n",
       "\n"
      ],
      "text/plain": [
       "  mpg cylinders displacement horsepower weight acceleration model_year origin\n",
       "1 18  8         307          130        3504   12.0         70         usa   \n",
       "2 15  8         350          165        3693   11.5         70         usa   \n",
       "3 18  8         318          150        3436   11.0         70         usa   \n",
       "4 16  8         304          150        3433   12.0         70         usa   \n",
       "5 17  8         302          140        3449   10.5         70         usa   \n",
       "6 15  8         429          198        4341   10.0         70         usa   \n",
       "  name                     \n",
       "1 chevrolet chevelle malibu\n",
       "2 buick skylark 320        \n",
       "3 plymouth satellite       \n",
       "4 amc rebel sst            \n",
       "5 ford torino              \n",
       "6 ford galaxie 500         "
      ]
     },
     "metadata": {},
     "output_type": "display_data"
    }
   ],
   "source": [
    "library(openxlsx)\n",
    "library(tidyverse)\n",
    "library(broom)\n",
    "\n",
    "mpg = read_csv('https://raw.githubusercontent.com/mwaskom/seaborn-data/master/mpg.csv')\n",
    "\n",
    "head(mpg)"
   ]
  },
  {
   "cell_type": "markdown",
   "metadata": {},
   "source": [
    "### The `data` worksheet\n",
    "\n",
    "First we'll set up objects referring to our workbook and worksheet, respectively. "
   ]
  },
  {
   "cell_type": "code",
   "execution_count": 2,
   "metadata": {},
   "outputs": [],
   "source": [
    "# Add workbook\n",
    "wb <- createWorkbook()\n",
    "\n",
    "# Add worksheet of raw data\n",
    "data_sheet <- addWorksheet(wb, sheetName = 'data')"
   ]
  },
  {
   "cell_type": "markdown",
   "metadata": {},
   "source": [
    "Next, we'll use the `writeDataTable()` function to write `mpg` to this worksheet as an Excel table. "
   ]
  },
  {
   "cell_type": "code",
   "execution_count": 3,
   "metadata": {},
   "outputs": [],
   "source": [
    "# Exclude row names\n",
    "writeDataTable(wb, sheet = data_sheet, x = mpg, rowNames = FALSE)"
   ]
  },
  {
   "cell_type": "markdown",
   "metadata": {},
   "source": [
    "Pretty much anything you could do to a workbook from Excel, you can do from `openxlsx`. \n",
    "\n",
    "For example, let's apply conditional formatting to the `name` column for observations starting with the phrase `ford`:"
   ]
  },
  {
   "cell_type": "code",
   "execution_count": 4,
   "metadata": {},
   "outputs": [
    {
     "ename": "ERROR",
     "evalue": "Error in conditionalFormatting(wb, sheet = data_sheet, cols = which(colnames(mpg) == : Invalid type argument.  Type must be one of 'expression', 'colourScale', 'databar', 'duplicates' or 'contains'\n",
     "output_type": "error",
     "traceback": [
      "Error in conditionalFormatting(wb, sheet = data_sheet, cols = which(colnames(mpg) == : Invalid type argument.  Type must be one of 'expression', 'colourScale', 'databar', 'duplicates' or 'contains'\nTraceback:\n",
      "1. conditionalFormatting(wb, sheet = data_sheet, cols = which(colnames(mpg) == \n .     \"name\"), rows = 2:(nrow(mpg) + 1), type = \"beginsWith\", rule = \"ford\", \n .     style = fordStyle)",
      "2. stop(\"Invalid type argument.  Type must be one of 'expression', 'colourScale', 'databar', 'duplicates' or 'contains'\")"
     ]
    }
   ],
   "source": [
    "# Create conditional formatting style\n",
    "fordStyle <- createStyle(fontColour = \"#006100\", bgFill = \"#C6EFCE\")\n",
    "\n",
    "conditionalFormatting(wb, sheet = data_sheet, \n",
    "                  # Find the index position of weight\n",
    "                  cols = which(colnames(mpg) == 'name'),\n",
    "                  # Format from rows 2 through the end of mpg (account for header)\n",
    "                  rows = 2:(nrow(mpg) + 1),\n",
    "                  # What type of rule is this?\n",
    "                  type = 'beginsWith',\n",
    "                  # What is the rule?\n",
    "                  rule = 'ford',\n",
    "                  # Apply style\n",
    "                  style = fordStyle)"
   ]
  },
  {
   "cell_type": "markdown",
   "metadata": {},
   "source": [
    "### The `analysis` worksheet\n",
    "\n",
    "I would also like to include an `analysis` worksheet including regression results and a scatterplot of the relationship between `mpg` and `weight`. \n",
    "\n",
    "We can set up a new worksheet, add the results of the regression with `writeData()` and add the scatterplot with `writePlot()` "
   ]
  },
  {
   "cell_type": "code",
   "execution_count": 6,
   "metadata": {},
   "outputs": [],
   "source": [
    "# Set up a new worksheet \n",
    "analysis_sheet <- addWorksheet(wb, sheetName = 'analysis')"
   ]
  },
  {
   "cell_type": "code",
   "execution_count": 7,
   "metadata": {},
   "outputs": [
    {
     "data": {
      "text/html": [
       "<table>\n",
       "<caption>A tibble: 2 × 5</caption>\n",
       "<thead>\n",
       "\t<tr><th scope=col>term</th><th scope=col>estimate</th><th scope=col>std.error</th><th scope=col>statistic</th><th scope=col>p.value</th></tr>\n",
       "\t<tr><th scope=col>&lt;chr&gt;</th><th scope=col>&lt;dbl&gt;</th><th scope=col>&lt;dbl&gt;</th><th scope=col>&lt;dbl&gt;</th><th scope=col>&lt;dbl&gt;</th></tr>\n",
       "</thead>\n",
       "<tbody>\n",
       "\t<tr><td>(Intercept)</td><td>46.31736442</td><td>0.7952452295</td><td> 58.24287</td><td>2.753438e-196</td></tr>\n",
       "\t<tr><td>weight     </td><td>-0.00767661</td><td>0.0002574869</td><td>-29.81360</td><td>2.972800e-103</td></tr>\n",
       "</tbody>\n",
       "</table>\n"
      ],
      "text/latex": [
       "A tibble: 2 × 5\n",
       "\\begin{tabular}{r|lllll}\n",
       " term & estimate & std.error & statistic & p.value\\\\\n",
       " <chr> & <dbl> & <dbl> & <dbl> & <dbl>\\\\\n",
       "\\hline\n",
       "\t (Intercept) & 46.31736442 & 0.7952452295 &  58.24287 & 2.753438e-196\\\\\n",
       "\t weight      & -0.00767661 & 0.0002574869 & -29.81360 & 2.972800e-103\\\\\n",
       "\\end{tabular}\n"
      ],
      "text/markdown": [
       "\n",
       "A tibble: 2 × 5\n",
       "\n",
       "| term &lt;chr&gt; | estimate &lt;dbl&gt; | std.error &lt;dbl&gt; | statistic &lt;dbl&gt; | p.value &lt;dbl&gt; |\n",
       "|---|---|---|---|---|\n",
       "| (Intercept) | 46.31736442 | 0.7952452295 |  58.24287 | 2.753438e-196 |\n",
       "| weight      | -0.00767661 | 0.0002574869 | -29.81360 | 2.972800e-103 |\n",
       "\n"
      ],
      "text/plain": [
       "  term        estimate    std.error    statistic p.value      \n",
       "1 (Intercept) 46.31736442 0.7952452295  58.24287 2.753438e-196\n",
       "2 weight      -0.00767661 0.0002574869 -29.81360 2.972800e-103"
      ]
     },
     "metadata": {},
     "output_type": "display_data"
    }
   ],
   "source": [
    "# Build a tidy lm regression output\n",
    "mpg_lm <- lm(mpg ~ weight, data = mpg)\n",
    "mpg_lm_tidy  <-  tidy(mpg_lm)\n",
    "\n",
    "mpg_lm_tidy\n",
    "\n",
    "# Add the table to this worksheet\n",
    "writeDataTable(wb, sheet = analysis_sheet, x = mpg_lm_tidy, rowNames = FALSE)"
   ]
  },
  {
   "cell_type": "code",
   "execution_count": 8,
   "metadata": {},
   "outputs": [
    {
     "data": {
      "image/png": "[encoded data removed]",
      "text/plain": [
       "plot without title"
      ]
     },
     "metadata": {
      "image/png": {
       "height": 420,
       "width": 420
      }
     },
     "output_type": "display_data"
    }
   ],
   "source": [
    "# Visualize the results\n",
    "ggplot(data = mpg, aes(x = weight, y = mpg))+\n",
    "    geom_point()+\n",
    "    geom_smooth(method = 'lm')\n",
    "\n",
    "# Add the image to the worksheet, set the placement\n",
    "insertPlot(wb, sheet = analysis_sheet, startRow = 5, startCol = \"A\", width = 4, height = 4)"
   ]
  },
  {
   "cell_type": "markdown",
   "metadata": {},
   "source": [
    "### Admire our work, part 1\n",
    "\n",
    "OK, let's save and view our work. By default, `saveWorkbook()` will put the file in our working directory.\n",
    "\n",
    "Let's take a look at the finished output in Excel."
   ]
  },
  {
   "cell_type": "code",
   "execution_count": 10,
   "metadata": {},
   "outputs": [
    {
     "name": "stderr",
     "output_type": "stream",
     "text": [
      "Note: zip::zip() is deprecated, please use zip::zipr() instead\n",
      "\n"
     ]
    }
   ],
   "source": [
    "mpg_report = 'mpg-report.xlsx'\n",
    "\n",
    "# save workbook to working directory\n",
    "saveWorkbook(wb = wb, file = mpg_report, overwrite = TRUE)"
   ]
  },
  {
   "cell_type": "markdown",
   "metadata": {},
   "source": [
    "It's pretty good! But as a matter of fact I would like to do a few more things to the workbook:\n",
    "\n",
    "- Freeze panes in each worksheet\n",
    "- Autofit the column widths in each worksheet\n",
    "- Format the `weight` column in thousands and `acceleration` with a decimal in the `data` worksheet. \n",
    "\n",
    "The connection from R to our workbook is still open in our session; as long as our workbook remains closed, these additinoal changes will be applied to the workbook.\n",
    "\n",
    "Let's give it a go:"
   ]
  },
  {
   "cell_type": "code",
   "execution_count": null,
   "metadata": {},
   "outputs": [],
   "source": [
    "for (sheet in getSheetNames(mpg_report)){\n",
    "    freezePane(wb, sheet = sheet, firstRow = TRUE)\n",
    "}"
   ]
  },
  {
   "cell_type": "code",
   "execution_count": null,
   "metadata": {},
   "outputs": [],
   "source": [
    "thousands <- createStyle(numFmt = \"#,##0\")\n",
    "\n",
    "addStyle(wb, sheet = data_sheet, style = thousands, cols = which(colnames(mpg) == 'weight'), rows = 1:nrow(mpg))"
   ]
  },
  {
   "cell_type": "code",
   "execution_count": null,
   "metadata": {},
   "outputs": [],
   "source": [
    "setColWidths(wb, sheet = data_sheet, cols = ncol(mpg), widths = \"auto\")"
   ]
  },
  {
   "cell_type": "markdown",
   "metadata": {},
   "source": [
    "Let's try this again!\n",
    "\n",
    "This time, let's use `openXL()` to launch the workbook directly from R."
   ]
  },
  {
   "cell_type": "code",
   "execution_count": null,
   "metadata": {},
   "outputs": [],
   "source": [
    "mpg_report = 'mpg-report.xlsx'\n",
    "\n",
    "saveWorkbook(wb = wb, file = mpg_report, overwrite = TRUE)\n",
    "\n",
    "openXL(mpg_report)"
   ]
  },
  {
   "cell_type": "markdown",
   "metadata": {},
   "source": [
    "### Writing multiple sheets\n",
    "\n",
    "Finally, we can write a _list_ of data frames to a workbook with the `write.xlsx()` function. For example, let's split our `mpg` dataset by `origin` and write each result a worksheet. We can set them to be tables in Excel with `asTable = TRUE`."
   ]
  },
  {
   "cell_type": "code",
   "execution_count": 15,
   "metadata": {},
   "outputs": [
    {
     "data": {
      "text/html": [
       "<dl>\n",
       "\t<dt>$europe</dt>\n",
       "\t\t<dd><table>\n",
       "<caption>A tibble: 70 × 9</caption>\n",
       "<thead>\n",
       "\t<tr><th scope=col>mpg</th><th scope=col>cylinders</th><th scope=col>displacement</th><th scope=col>horsepower</th><th scope=col>weight</th><th scope=col>acceleration</th><th scope=col>model_year</th><th scope=col>origin</th><th scope=col>name</th></tr>\n",
       "\t<tr><th scope=col>&lt;dbl&gt;</th><th scope=col>&lt;dbl&gt;</th><th scope=col>&lt;dbl&gt;</th><th scope=col>&lt;dbl&gt;</th><th scope=col>&lt;dbl&gt;</th><th scope=col>&lt;dbl&gt;</th><th scope=col>&lt;dbl&gt;</th><th scope=col>&lt;chr&gt;</th><th scope=col>&lt;chr&gt;</th></tr>\n",
       "</thead>\n",
       "<tbody>\n",
       "\t<tr><td>26</td><td>4</td><td> 97</td><td> 46</td><td>1835</td><td>20.5</td><td>70</td><td>europe</td><td>volkswagen 1131 deluxe sedan</td></tr>\n",
       "\t<tr><td>25</td><td>4</td><td>110</td><td> 87</td><td>2672</td><td>17.5</td><td>70</td><td>europe</td><td>peugeot 504                 </td></tr>\n",
       "\t<tr><td>24</td><td>4</td><td>107</td><td> 90</td><td>2430</td><td>14.5</td><td>70</td><td>europe</td><td>audi 100 ls                 </td></tr>\n",
       "\t<tr><td>25</td><td>4</td><td>104</td><td> 95</td><td>2375</td><td>17.5</td><td>70</td><td>europe</td><td>saab 99e                    </td></tr>\n",
       "\t<tr><td>26</td><td>4</td><td>121</td><td>113</td><td>2234</td><td>12.5</td><td>70</td><td>europe</td><td>bmw 2002                    </td></tr>\n",
       "\t<tr><td>28</td><td>4</td><td>116</td><td> 90</td><td>2123</td><td>14.0</td><td>71</td><td>europe</td><td>opel 1900                   </td></tr>\n",
       "\t<tr><td>30</td><td>4</td><td> 79</td><td> 70</td><td>2074</td><td>19.5</td><td>71</td><td>europe</td><td>peugeot 304                 </td></tr>\n",
       "\t<tr><td>30</td><td>4</td><td> 88</td><td> 76</td><td>2065</td><td>14.5</td><td>71</td><td>europe</td><td>fiat 124b                   </td></tr>\n",
       "\t<tr><td>27</td><td>4</td><td> 97</td><td> 60</td><td>1834</td><td>19.0</td><td>71</td><td>europe</td><td>volkswagen model 111        </td></tr>\n",
       "\t<tr><td>23</td><td>4</td><td> 97</td><td> 54</td><td>2254</td><td>23.5</td><td>72</td><td>europe</td><td>volkswagen type 3           </td></tr>\n",
       "\t<tr><td>18</td><td>4</td><td>121</td><td>112</td><td>2933</td><td>14.5</td><td>72</td><td>europe</td><td>volvo 145e (sw)             </td></tr>\n",
       "\t<tr><td>22</td><td>4</td><td>121</td><td> 76</td><td>2511</td><td>18.0</td><td>72</td><td>europe</td><td>volkswagen 411 (sw)         </td></tr>\n",
       "\t<tr><td>21</td><td>4</td><td>120</td><td> 87</td><td>2979</td><td>19.5</td><td>72</td><td>europe</td><td>peugeot 504 (sw)            </td></tr>\n",
       "\t<tr><td>26</td><td>4</td><td> 96</td><td> 69</td><td>2189</td><td>18.0</td><td>72</td><td>europe</td><td>renault 12 (sw)             </td></tr>\n",
       "\t<tr><td>26</td><td>4</td><td> 97</td><td> 46</td><td>1950</td><td>21.0</td><td>73</td><td>europe</td><td>volkswagen super beetle     </td></tr>\n",
       "\t<tr><td>26</td><td>4</td><td> 98</td><td> 90</td><td>2265</td><td>15.5</td><td>73</td><td>europe</td><td>fiat 124 sport coupe        </td></tr>\n",
       "\t<tr><td>29</td><td>4</td><td> 68</td><td> 49</td><td>1867</td><td>19.5</td><td>73</td><td>europe</td><td>fiat 128                    </td></tr>\n",
       "\t<tr><td>24</td><td>4</td><td>116</td><td> 75</td><td>2158</td><td>15.5</td><td>73</td><td>europe</td><td>opel manta                  </td></tr>\n",
       "\t<tr><td>20</td><td>4</td><td>114</td><td> 91</td><td>2582</td><td>14.0</td><td>73</td><td>europe</td><td>audi 100ls                  </td></tr>\n",
       "\t<tr><td>19</td><td>4</td><td>121</td><td>112</td><td>2868</td><td>15.5</td><td>73</td><td>europe</td><td>volvo 144ea                 </td></tr>\n",
       "\t<tr><td>24</td><td>4</td><td>121</td><td>110</td><td>2660</td><td>14.0</td><td>73</td><td>europe</td><td>saab 99le                   </td></tr>\n",
       "\t<tr><td>29</td><td>4</td><td> 98</td><td> 83</td><td>2219</td><td>16.5</td><td>74</td><td>europe</td><td>audi fox                    </td></tr>\n",
       "\t<tr><td>26</td><td>4</td><td> 79</td><td> 67</td><td>1963</td><td>15.5</td><td>74</td><td>europe</td><td>volkswagen dasher           </td></tr>\n",
       "\t<tr><td>26</td><td>4</td><td> 97</td><td> 78</td><td>2300</td><td>14.5</td><td>74</td><td>europe</td><td>opel manta                  </td></tr>\n",
       "\t<tr><td>24</td><td>4</td><td> 90</td><td> 75</td><td>2108</td><td>15.5</td><td>74</td><td>europe</td><td>fiat 128                    </td></tr>\n",
       "\t<tr><td>26</td><td>4</td><td>116</td><td> 75</td><td>2246</td><td>14.0</td><td>74</td><td>europe</td><td>fiat 124 tc                 </td></tr>\n",
       "\t<tr><td>31</td><td>4</td><td> 79</td><td> 67</td><td>2000</td><td>16.0</td><td>74</td><td>europe</td><td>fiat x1.9                   </td></tr>\n",
       "\t<tr><td>25</td><td>4</td><td> 90</td><td> 71</td><td>2223</td><td>16.5</td><td>75</td><td>europe</td><td>volkswagen dasher           </td></tr>\n",
       "\t<tr><td>29</td><td>4</td><td> 90</td><td> 70</td><td>1937</td><td>14.0</td><td>75</td><td>europe</td><td>volkswagen rabbit           </td></tr>\n",
       "\t<tr><td>23</td><td>4</td><td>115</td><td> 95</td><td>2694</td><td>15.0</td><td>75</td><td>europe</td><td>audi 100ls                  </td></tr>\n",
       "\t<tr><td>...</td><td>...</td><td>...</td><td>...</td><td>...</td><td>...</td><td>...</td><td>...</td><td>...</td></tr>\n",
       "\t<tr><td>16.5</td><td>6</td><td>168</td><td>120</td><td>3820</td><td>16.7</td><td>76</td><td>europe</td><td>mercedes-benz 280s             </td></tr>\n",
       "\t<tr><td>36.0</td><td>4</td><td> 79</td><td> 58</td><td>1825</td><td>18.6</td><td>77</td><td>europe</td><td>renault 5 gtl                  </td></tr>\n",
       "\t<tr><td>29.0</td><td>4</td><td> 97</td><td> 78</td><td>1940</td><td>14.5</td><td>77</td><td>europe</td><td>volkswagen rabbit custom       </td></tr>\n",
       "\t<tr><td>30.5</td><td>4</td><td> 97</td><td> 78</td><td>2190</td><td>14.1</td><td>77</td><td>europe</td><td>volkswagen dasher              </td></tr>\n",
       "\t<tr><td>21.5</td><td>4</td><td>121</td><td>110</td><td>2600</td><td>12.8</td><td>77</td><td>europe</td><td>bmw 320i                       </td></tr>\n",
       "\t<tr><td>43.1</td><td>4</td><td> 90</td><td> 48</td><td>1985</td><td>21.5</td><td>78</td><td>europe</td><td>volkswagen rabbit custom diesel</td></tr>\n",
       "\t<tr><td>20.3</td><td>5</td><td>131</td><td>103</td><td>2830</td><td>15.9</td><td>78</td><td>europe</td><td>audi 5000                      </td></tr>\n",
       "\t<tr><td>17.0</td><td>6</td><td>163</td><td>125</td><td>3140</td><td>13.6</td><td>78</td><td>europe</td><td>volvo 264gl                    </td></tr>\n",
       "\t<tr><td>21.6</td><td>4</td><td>121</td><td>115</td><td>2795</td><td>15.7</td><td>78</td><td>europe</td><td>saab 99gle                     </td></tr>\n",
       "\t<tr><td>16.2</td><td>6</td><td>163</td><td>133</td><td>3410</td><td>15.8</td><td>78</td><td>europe</td><td>peugeot 604sl                  </td></tr>\n",
       "\t<tr><td>31.5</td><td>4</td><td> 89</td><td> 71</td><td>1990</td><td>14.9</td><td>78</td><td>europe</td><td>volkswagen scirocco            </td></tr>\n",
       "\t<tr><td>31.9</td><td>4</td><td> 89</td><td> 71</td><td>1925</td><td>14.0</td><td>79</td><td>europe</td><td>vw rabbit custom               </td></tr>\n",
       "\t<tr><td>25.4</td><td>5</td><td>183</td><td> 77</td><td>3530</td><td>20.1</td><td>79</td><td>europe</td><td>mercedes benz 300d             </td></tr>\n",
       "\t<tr><td>27.2</td><td>4</td><td>141</td><td> 71</td><td>3190</td><td>24.8</td><td>79</td><td>europe</td><td>peugeot 504                    </td></tr>\n",
       "\t<tr><td>37.3</td><td>4</td><td> 91</td><td> 69</td><td>2130</td><td>14.7</td><td>79</td><td>europe</td><td>fiat strada custom             </td></tr>\n",
       "\t<tr><td>41.5</td><td>4</td><td> 98</td><td> 76</td><td>2144</td><td>14.7</td><td>80</td><td>europe</td><td>vw rabbit                      </td></tr>\n",
       "\t<tr><td>34.3</td><td>4</td><td> 97</td><td> 78</td><td>2188</td><td>15.8</td><td>80</td><td>europe</td><td>audi 4000                      </td></tr>\n",
       "\t<tr><td>44.3</td><td>4</td><td> 90</td><td> 48</td><td>2085</td><td>21.7</td><td>80</td><td>europe</td><td>vw rabbit c (diesel)           </td></tr>\n",
       "\t<tr><td>43.4</td><td>4</td><td> 90</td><td> 48</td><td>2335</td><td>23.7</td><td>80</td><td>europe</td><td>vw dasher (diesel)             </td></tr>\n",
       "\t<tr><td>36.4</td><td>5</td><td>121</td><td> 67</td><td>2950</td><td>19.9</td><td>80</td><td>europe</td><td>audi 5000s (diesel)            </td></tr>\n",
       "\t<tr><td>30.0</td><td>4</td><td>146</td><td> 67</td><td>3250</td><td>21.8</td><td>80</td><td>europe</td><td>mercedes-benz 240d             </td></tr>\n",
       "\t<tr><td>40.9</td><td>4</td><td> 85</td><td> NA</td><td>1835</td><td>17.3</td><td>80</td><td>europe</td><td>renault lecar deluxe           </td></tr>\n",
       "\t<tr><td>29.8</td><td>4</td><td> 89</td><td> 62</td><td>1845</td><td>15.3</td><td>80</td><td>europe</td><td>vokswagen rabbit               </td></tr>\n",
       "\t<tr><td>35.0</td><td>4</td><td>122</td><td> 88</td><td>2500</td><td>15.1</td><td>80</td><td>europe</td><td>triumph tr7 coupe              </td></tr>\n",
       "\t<tr><td>33.0</td><td>4</td><td>105</td><td> 74</td><td>2190</td><td>14.2</td><td>81</td><td>europe</td><td>volkswagen jetta               </td></tr>\n",
       "\t<tr><td>34.5</td><td>4</td><td>100</td><td> NA</td><td>2320</td><td>15.8</td><td>81</td><td>europe</td><td>renault 18i                    </td></tr>\n",
       "\t<tr><td>28.1</td><td>4</td><td>141</td><td> 80</td><td>3230</td><td>20.4</td><td>81</td><td>europe</td><td>peugeot 505s turbo diesel      </td></tr>\n",
       "\t<tr><td>30.7</td><td>6</td><td>145</td><td> 76</td><td>3160</td><td>19.6</td><td>81</td><td>europe</td><td>volvo diesel                   </td></tr>\n",
       "\t<tr><td>36.0</td><td>4</td><td>105</td><td> 74</td><td>1980</td><td>15.3</td><td>82</td><td>europe</td><td>volkswagen rabbit l            </td></tr>\n",
       "\t<tr><td>44.0</td><td>4</td><td> 97</td><td> 52</td><td>2130</td><td>24.6</td><td>82</td><td>europe</td><td>vw pickup                      </td></tr>\n",
       "</tbody>\n",
       "</table>\n",
       "</dd>\n",
       "\t<dt>$japan</dt>\n",
       "\t\t<dd><table>\n",
       "<caption>A tibble: 79 × 9</caption>\n",
       "<thead>\n",
       "\t<tr><th scope=col>mpg</th><th scope=col>cylinders</th><th scope=col>displacement</th><th scope=col>horsepower</th><th scope=col>weight</th><th scope=col>acceleration</th><th scope=col>model_year</th><th scope=col>origin</th><th scope=col>name</th></tr>\n",
       "\t<tr><th scope=col>&lt;dbl&gt;</th><th scope=col>&lt;dbl&gt;</th><th scope=col>&lt;dbl&gt;</th><th scope=col>&lt;dbl&gt;</th><th scope=col>&lt;dbl&gt;</th><th scope=col>&lt;dbl&gt;</th><th scope=col>&lt;dbl&gt;</th><th scope=col>&lt;chr&gt;</th><th scope=col>&lt;chr&gt;</th></tr>\n",
       "</thead>\n",
       "<tbody>\n",
       "\t<tr><td>24.0</td><td>4</td><td>113</td><td> 95</td><td>2372</td><td>15.0</td><td>70</td><td>japan</td><td>toyota corona mark ii      </td></tr>\n",
       "\t<tr><td>27.0</td><td>4</td><td> 97</td><td> 88</td><td>2130</td><td>14.5</td><td>70</td><td>japan</td><td>datsun pl510               </td></tr>\n",
       "\t<tr><td>27.0</td><td>4</td><td> 97</td><td> 88</td><td>2130</td><td>14.5</td><td>71</td><td>japan</td><td>datsun pl510               </td></tr>\n",
       "\t<tr><td>25.0</td><td>4</td><td>113</td><td> 95</td><td>2228</td><td>14.0</td><td>71</td><td>japan</td><td>toyota corona              </td></tr>\n",
       "\t<tr><td>31.0</td><td>4</td><td> 71</td><td> 65</td><td>1773</td><td>19.0</td><td>71</td><td>japan</td><td>toyota corolla 1200        </td></tr>\n",
       "\t<tr><td>35.0</td><td>4</td><td> 72</td><td> 69</td><td>1613</td><td>18.0</td><td>71</td><td>japan</td><td>datsun 1200                </td></tr>\n",
       "\t<tr><td>24.0</td><td>4</td><td>113</td><td> 95</td><td>2278</td><td>15.5</td><td>72</td><td>japan</td><td>toyota corona hardtop      </td></tr>\n",
       "\t<tr><td>19.0</td><td>3</td><td> 70</td><td> 97</td><td>2330</td><td>13.5</td><td>72</td><td>japan</td><td>mazda rx2 coupe            </td></tr>\n",
       "\t<tr><td>28.0</td><td>4</td><td> 97</td><td> 92</td><td>2288</td><td>17.0</td><td>72</td><td>japan</td><td>datsun 510 (sw)            </td></tr>\n",
       "\t<tr><td>23.0</td><td>4</td><td>120</td><td> 97</td><td>2506</td><td>14.5</td><td>72</td><td>japan</td><td>toyouta corona mark ii (sw)</td></tr>\n",
       "\t<tr><td>27.0</td><td>4</td><td> 97</td><td> 88</td><td>2100</td><td>16.5</td><td>72</td><td>japan</td><td>toyota corolla 1600 (sw)   </td></tr>\n",
       "\t<tr><td>20.0</td><td>4</td><td> 97</td><td> 88</td><td>2279</td><td>19.0</td><td>73</td><td>japan</td><td>toyota carina              </td></tr>\n",
       "\t<tr><td>22.0</td><td>4</td><td>108</td><td> 94</td><td>2379</td><td>16.5</td><td>73</td><td>japan</td><td>datsun 610                 </td></tr>\n",
       "\t<tr><td>18.0</td><td>3</td><td> 70</td><td> 90</td><td>2124</td><td>13.5</td><td>73</td><td>japan</td><td>maxda rx3                  </td></tr>\n",
       "\t<tr><td>20.0</td><td>6</td><td>156</td><td>122</td><td>2807</td><td>13.5</td><td>73</td><td>japan</td><td>toyota mark ii             </td></tr>\n",
       "\t<tr><td>31.0</td><td>4</td><td> 79</td><td> 67</td><td>1950</td><td>19.0</td><td>74</td><td>japan</td><td>datsun b210                </td></tr>\n",
       "\t<tr><td>32.0</td><td>4</td><td> 71</td><td> 65</td><td>1836</td><td>21.0</td><td>74</td><td>japan</td><td>toyota corolla 1200        </td></tr>\n",
       "\t<tr><td>31.0</td><td>4</td><td> 76</td><td> 52</td><td>1649</td><td>16.5</td><td>74</td><td>japan</td><td>toyota corona              </td></tr>\n",
       "\t<tr><td>32.0</td><td>4</td><td> 83</td><td> 61</td><td>2003</td><td>19.0</td><td>74</td><td>japan</td><td>datsun 710                 </td></tr>\n",
       "\t<tr><td>24.0</td><td>4</td><td>120</td><td> 97</td><td>2489</td><td>15.0</td><td>74</td><td>japan</td><td>honda civic                </td></tr>\n",
       "\t<tr><td>26.0</td><td>4</td><td>108</td><td> 93</td><td>2391</td><td>15.5</td><td>74</td><td>japan</td><td>subaru                     </td></tr>\n",
       "\t<tr><td>29.0</td><td>4</td><td> 97</td><td> 75</td><td>2171</td><td>16.0</td><td>75</td><td>japan</td><td>toyota corolla             </td></tr>\n",
       "\t<tr><td>24.0</td><td>4</td><td>134</td><td> 96</td><td>2702</td><td>13.5</td><td>75</td><td>japan</td><td>toyota corona              </td></tr>\n",
       "\t<tr><td>24.0</td><td>4</td><td>119</td><td> 97</td><td>2545</td><td>17.0</td><td>75</td><td>japan</td><td>datsun 710                 </td></tr>\n",
       "\t<tr><td>33.0</td><td>4</td><td> 91</td><td> 53</td><td>1795</td><td>17.5</td><td>75</td><td>japan</td><td>honda civic cvcc           </td></tr>\n",
       "\t<tr><td>33.0</td><td>4</td><td> 91</td><td> 53</td><td>1795</td><td>17.4</td><td>76</td><td>japan</td><td>honda civic                </td></tr>\n",
       "\t<tr><td>32.0</td><td>4</td><td> 85</td><td> 70</td><td>1990</td><td>17.0</td><td>76</td><td>japan</td><td>datsun b-210               </td></tr>\n",
       "\t<tr><td>28.0</td><td>4</td><td> 97</td><td> 75</td><td>2155</td><td>16.4</td><td>76</td><td>japan</td><td>toyota corolla             </td></tr>\n",
       "\t<tr><td>19.0</td><td>6</td><td>156</td><td>108</td><td>2930</td><td>15.5</td><td>76</td><td>japan</td><td>toyota mark ii             </td></tr>\n",
       "\t<tr><td>31.5</td><td>4</td><td> 98</td><td> 68</td><td>2045</td><td>18.5</td><td>77</td><td>japan</td><td>honda accord cvcc          </td></tr>\n",
       "\t<tr><td>...</td><td>...</td><td>...</td><td>...</td><td>...</td><td>...</td><td>...</td><td>...</td><td>...</td></tr>\n",
       "\t<tr><td>37.0</td><td>4</td><td>119</td><td> 92</td><td>2434</td><td>15.0</td><td>80</td><td>japan</td><td>datsun 510 hatchback</td></tr>\n",
       "\t<tr><td>32.2</td><td>4</td><td>108</td><td> 75</td><td>2265</td><td>15.2</td><td>80</td><td>japan</td><td>toyota corolla      </td></tr>\n",
       "\t<tr><td>46.6</td><td>4</td><td> 86</td><td> 65</td><td>2110</td><td>17.9</td><td>80</td><td>japan</td><td>mazda glc           </td></tr>\n",
       "\t<tr><td>40.8</td><td>4</td><td> 85</td><td> 65</td><td>2110</td><td>19.2</td><td>80</td><td>japan</td><td>datsun 210          </td></tr>\n",
       "\t<tr><td>44.6</td><td>4</td><td> 91</td><td> 67</td><td>1850</td><td>13.8</td><td>80</td><td>japan</td><td>honda civic 1500 gl </td></tr>\n",
       "\t<tr><td>33.8</td><td>4</td><td> 97</td><td> 67</td><td>2145</td><td>18.0</td><td>80</td><td>japan</td><td>subaru dl           </td></tr>\n",
       "\t<tr><td>32.7</td><td>6</td><td>168</td><td>132</td><td>2910</td><td>11.4</td><td>80</td><td>japan</td><td>datsun 280-zx       </td></tr>\n",
       "\t<tr><td>23.7</td><td>3</td><td> 70</td><td>100</td><td>2420</td><td>12.5</td><td>80</td><td>japan</td><td>mazda rx-7 gs       </td></tr>\n",
       "\t<tr><td>32.4</td><td>4</td><td>107</td><td> 72</td><td>2290</td><td>17.0</td><td>80</td><td>japan</td><td>honda accord        </td></tr>\n",
       "\t<tr><td>39.1</td><td>4</td><td> 79</td><td> 58</td><td>1755</td><td>16.9</td><td>81</td><td>japan</td><td>toyota starlet      </td></tr>\n",
       "\t<tr><td>35.1</td><td>4</td><td> 81</td><td> 60</td><td>1760</td><td>16.1</td><td>81</td><td>japan</td><td>honda civic 1300    </td></tr>\n",
       "\t<tr><td>32.3</td><td>4</td><td> 97</td><td> 67</td><td>2065</td><td>17.8</td><td>81</td><td>japan</td><td>subaru              </td></tr>\n",
       "\t<tr><td>37.0</td><td>4</td><td> 85</td><td> 65</td><td>1975</td><td>19.4</td><td>81</td><td>japan</td><td>datsun 210 mpg      </td></tr>\n",
       "\t<tr><td>37.7</td><td>4</td><td> 89</td><td> 62</td><td>2050</td><td>17.3</td><td>81</td><td>japan</td><td>toyota tercel       </td></tr>\n",
       "\t<tr><td>34.1</td><td>4</td><td> 91</td><td> 68</td><td>1985</td><td>16.0</td><td>81</td><td>japan</td><td>mazda glc 4         </td></tr>\n",
       "\t<tr><td>33.7</td><td>4</td><td>107</td><td> 75</td><td>2210</td><td>14.4</td><td>81</td><td>japan</td><td>honda prelude       </td></tr>\n",
       "\t<tr><td>32.4</td><td>4</td><td>108</td><td> 75</td><td>2350</td><td>16.8</td><td>81</td><td>japan</td><td>toyota corolla      </td></tr>\n",
       "\t<tr><td>32.9</td><td>4</td><td>119</td><td>100</td><td>2615</td><td>14.8</td><td>81</td><td>japan</td><td>datsun 200sx        </td></tr>\n",
       "\t<tr><td>31.6</td><td>4</td><td>120</td><td> 74</td><td>2635</td><td>18.3</td><td>81</td><td>japan</td><td>mazda 626           </td></tr>\n",
       "\t<tr><td>25.4</td><td>6</td><td>168</td><td>116</td><td>2900</td><td>12.6</td><td>81</td><td>japan</td><td>toyota cressida     </td></tr>\n",
       "\t<tr><td>24.2</td><td>6</td><td>146</td><td>120</td><td>2930</td><td>13.8</td><td>81</td><td>japan</td><td>datsun 810 maxima   </td></tr>\n",
       "\t<tr><td>37.0</td><td>4</td><td> 91</td><td> 68</td><td>2025</td><td>18.2</td><td>82</td><td>japan</td><td>mazda glc custom l  </td></tr>\n",
       "\t<tr><td>31.0</td><td>4</td><td> 91</td><td> 68</td><td>1970</td><td>17.6</td><td>82</td><td>japan</td><td>mazda glc custom    </td></tr>\n",
       "\t<tr><td>36.0</td><td>4</td><td>120</td><td> 88</td><td>2160</td><td>14.5</td><td>82</td><td>japan</td><td>nissan stanza xe    </td></tr>\n",
       "\t<tr><td>36.0</td><td>4</td><td>107</td><td> 75</td><td>2205</td><td>14.5</td><td>82</td><td>japan</td><td>honda accord        </td></tr>\n",
       "\t<tr><td>34.0</td><td>4</td><td>108</td><td> 70</td><td>2245</td><td>16.9</td><td>82</td><td>japan</td><td>toyota corolla      </td></tr>\n",
       "\t<tr><td>38.0</td><td>4</td><td> 91</td><td> 67</td><td>1965</td><td>15.0</td><td>82</td><td>japan</td><td>honda civic         </td></tr>\n",
       "\t<tr><td>32.0</td><td>4</td><td> 91</td><td> 67</td><td>1965</td><td>15.7</td><td>82</td><td>japan</td><td>honda civic (auto)  </td></tr>\n",
       "\t<tr><td>38.0</td><td>4</td><td> 91</td><td> 67</td><td>1995</td><td>16.2</td><td>82</td><td>japan</td><td>datsun 310 gx       </td></tr>\n",
       "\t<tr><td>32.0</td><td>4</td><td>144</td><td> 96</td><td>2665</td><td>13.9</td><td>82</td><td>japan</td><td>toyota celica gt    </td></tr>\n",
       "</tbody>\n",
       "</table>\n",
       "</dd>\n",
       "\t<dt>$usa</dt>\n",
       "\t\t<dd><table>\n",
       "<caption>A tibble: 249 × 9</caption>\n",
       "<thead>\n",
       "\t<tr><th scope=col>mpg</th><th scope=col>cylinders</th><th scope=col>displacement</th><th scope=col>horsepower</th><th scope=col>weight</th><th scope=col>acceleration</th><th scope=col>model_year</th><th scope=col>origin</th><th scope=col>name</th></tr>\n",
       "\t<tr><th scope=col>&lt;dbl&gt;</th><th scope=col>&lt;dbl&gt;</th><th scope=col>&lt;dbl&gt;</th><th scope=col>&lt;dbl&gt;</th><th scope=col>&lt;dbl&gt;</th><th scope=col>&lt;dbl&gt;</th><th scope=col>&lt;dbl&gt;</th><th scope=col>&lt;chr&gt;</th><th scope=col>&lt;chr&gt;</th></tr>\n",
       "</thead>\n",
       "<tbody>\n",
       "\t<tr><td>18</td><td>8</td><td>307</td><td>130</td><td>3504</td><td>12.0</td><td>70</td><td>usa</td><td>chevrolet chevelle malibu</td></tr>\n",
       "\t<tr><td>15</td><td>8</td><td>350</td><td>165</td><td>3693</td><td>11.5</td><td>70</td><td>usa</td><td>buick skylark 320        </td></tr>\n",
       "\t<tr><td>18</td><td>8</td><td>318</td><td>150</td><td>3436</td><td>11.0</td><td>70</td><td>usa</td><td>plymouth satellite       </td></tr>\n",
       "\t<tr><td>16</td><td>8</td><td>304</td><td>150</td><td>3433</td><td>12.0</td><td>70</td><td>usa</td><td>amc rebel sst            </td></tr>\n",
       "\t<tr><td>17</td><td>8</td><td>302</td><td>140</td><td>3449</td><td>10.5</td><td>70</td><td>usa</td><td>ford torino              </td></tr>\n",
       "\t<tr><td>15</td><td>8</td><td>429</td><td>198</td><td>4341</td><td>10.0</td><td>70</td><td>usa</td><td>ford galaxie 500         </td></tr>\n",
       "\t<tr><td>14</td><td>8</td><td>454</td><td>220</td><td>4354</td><td> 9.0</td><td>70</td><td>usa</td><td>chevrolet impala         </td></tr>\n",
       "\t<tr><td>14</td><td>8</td><td>440</td><td>215</td><td>4312</td><td> 8.5</td><td>70</td><td>usa</td><td>plymouth fury iii        </td></tr>\n",
       "\t<tr><td>14</td><td>8</td><td>455</td><td>225</td><td>4425</td><td>10.0</td><td>70</td><td>usa</td><td>pontiac catalina         </td></tr>\n",
       "\t<tr><td>15</td><td>8</td><td>390</td><td>190</td><td>3850</td><td> 8.5</td><td>70</td><td>usa</td><td>amc ambassador dpl       </td></tr>\n",
       "\t<tr><td>15</td><td>8</td><td>383</td><td>170</td><td>3563</td><td>10.0</td><td>70</td><td>usa</td><td>dodge challenger se      </td></tr>\n",
       "\t<tr><td>14</td><td>8</td><td>340</td><td>160</td><td>3609</td><td> 8.0</td><td>70</td><td>usa</td><td>plymouth 'cuda 340       </td></tr>\n",
       "\t<tr><td>15</td><td>8</td><td>400</td><td>150</td><td>3761</td><td> 9.5</td><td>70</td><td>usa</td><td>chevrolet monte carlo    </td></tr>\n",
       "\t<tr><td>14</td><td>8</td><td>455</td><td>225</td><td>3086</td><td>10.0</td><td>70</td><td>usa</td><td>buick estate wagon (sw)  </td></tr>\n",
       "\t<tr><td>22</td><td>6</td><td>198</td><td> 95</td><td>2833</td><td>15.5</td><td>70</td><td>usa</td><td>plymouth duster          </td></tr>\n",
       "\t<tr><td>18</td><td>6</td><td>199</td><td> 97</td><td>2774</td><td>15.5</td><td>70</td><td>usa</td><td>amc hornet               </td></tr>\n",
       "\t<tr><td>21</td><td>6</td><td>200</td><td> 85</td><td>2587</td><td>16.0</td><td>70</td><td>usa</td><td>ford maverick            </td></tr>\n",
       "\t<tr><td>21</td><td>6</td><td>199</td><td> 90</td><td>2648</td><td>15.0</td><td>70</td><td>usa</td><td>amc gremlin              </td></tr>\n",
       "\t<tr><td>10</td><td>8</td><td>360</td><td>215</td><td>4615</td><td>14.0</td><td>70</td><td>usa</td><td>ford f250                </td></tr>\n",
       "\t<tr><td>10</td><td>8</td><td>307</td><td>200</td><td>4376</td><td>15.0</td><td>70</td><td>usa</td><td>chevy c20                </td></tr>\n",
       "\t<tr><td>11</td><td>8</td><td>318</td><td>210</td><td>4382</td><td>13.5</td><td>70</td><td>usa</td><td>dodge d200               </td></tr>\n",
       "\t<tr><td> 9</td><td>8</td><td>304</td><td>193</td><td>4732</td><td>18.5</td><td>70</td><td>usa</td><td>hi 1200d                 </td></tr>\n",
       "\t<tr><td>28</td><td>4</td><td>140</td><td> 90</td><td>2264</td><td>15.5</td><td>71</td><td>usa</td><td>chevrolet vega 2300      </td></tr>\n",
       "\t<tr><td>25</td><td>4</td><td> 98</td><td> NA</td><td>2046</td><td>19.0</td><td>71</td><td>usa</td><td>ford pinto               </td></tr>\n",
       "\t<tr><td>19</td><td>6</td><td>232</td><td>100</td><td>2634</td><td>13.0</td><td>71</td><td>usa</td><td>amc gremlin              </td></tr>\n",
       "\t<tr><td>16</td><td>6</td><td>225</td><td>105</td><td>3439</td><td>15.5</td><td>71</td><td>usa</td><td>plymouth satellite custom</td></tr>\n",
       "\t<tr><td>17</td><td>6</td><td>250</td><td>100</td><td>3329</td><td>15.5</td><td>71</td><td>usa</td><td>chevrolet chevelle malibu</td></tr>\n",
       "\t<tr><td>19</td><td>6</td><td>250</td><td> 88</td><td>3302</td><td>15.5</td><td>71</td><td>usa</td><td>ford torino 500          </td></tr>\n",
       "\t<tr><td>18</td><td>6</td><td>232</td><td>100</td><td>3288</td><td>15.5</td><td>71</td><td>usa</td><td>amc matador              </td></tr>\n",
       "\t<tr><td>14</td><td>8</td><td>350</td><td>165</td><td>4209</td><td>12.0</td><td>71</td><td>usa</td><td>chevrolet impala         </td></tr>\n",
       "\t<tr><td>...</td><td>...</td><td>...</td><td>...</td><td>...</td><td>...</td><td>...</td><td>...</td><td>...</td></tr>\n",
       "\t<tr><td>23.5</td><td>6</td><td>173</td><td>110</td><td>2725</td><td>12.6</td><td>81</td><td>usa</td><td>chevrolet citation               </td></tr>\n",
       "\t<tr><td>30.0</td><td>4</td><td>135</td><td> 84</td><td>2385</td><td>12.9</td><td>81</td><td>usa</td><td>plymouth reliant                 </td></tr>\n",
       "\t<tr><td>39.0</td><td>4</td><td> 86</td><td> 64</td><td>1875</td><td>16.4</td><td>81</td><td>usa</td><td>plymouth champ                   </td></tr>\n",
       "\t<tr><td>34.7</td><td>4</td><td>105</td><td> 63</td><td>2215</td><td>14.9</td><td>81</td><td>usa</td><td>plymouth horizon 4               </td></tr>\n",
       "\t<tr><td>34.4</td><td>4</td><td> 98</td><td> 65</td><td>2045</td><td>16.2</td><td>81</td><td>usa</td><td>ford escort 4w                   </td></tr>\n",
       "\t<tr><td>29.9</td><td>4</td><td> 98</td><td> 65</td><td>2380</td><td>20.7</td><td>81</td><td>usa</td><td>ford escort 2h                   </td></tr>\n",
       "\t<tr><td>22.4</td><td>6</td><td>231</td><td>110</td><td>3415</td><td>15.8</td><td>81</td><td>usa</td><td>buick century                    </td></tr>\n",
       "\t<tr><td>26.6</td><td>8</td><td>350</td><td>105</td><td>3725</td><td>19.0</td><td>81</td><td>usa</td><td>oldsmobile cutlass ls            </td></tr>\n",
       "\t<tr><td>20.2</td><td>6</td><td>200</td><td> 88</td><td>3060</td><td>17.1</td><td>81</td><td>usa</td><td>ford granada gl                  </td></tr>\n",
       "\t<tr><td>17.6</td><td>6</td><td>225</td><td> 85</td><td>3465</td><td>16.6</td><td>81</td><td>usa</td><td>chrysler lebaron salon           </td></tr>\n",
       "\t<tr><td>28.0</td><td>4</td><td>112</td><td> 88</td><td>2605</td><td>19.6</td><td>82</td><td>usa</td><td>chevrolet cavalier               </td></tr>\n",
       "\t<tr><td>27.0</td><td>4</td><td>112</td><td> 88</td><td>2640</td><td>18.6</td><td>82</td><td>usa</td><td>chevrolet cavalier wagon         </td></tr>\n",
       "\t<tr><td>34.0</td><td>4</td><td>112</td><td> 88</td><td>2395</td><td>18.0</td><td>82</td><td>usa</td><td>chevrolet cavalier 2-door        </td></tr>\n",
       "\t<tr><td>31.0</td><td>4</td><td>112</td><td> 85</td><td>2575</td><td>16.2</td><td>82</td><td>usa</td><td>pontiac j2000 se hatchback       </td></tr>\n",
       "\t<tr><td>29.0</td><td>4</td><td>135</td><td> 84</td><td>2525</td><td>16.0</td><td>82</td><td>usa</td><td>dodge aries se                   </td></tr>\n",
       "\t<tr><td>27.0</td><td>4</td><td>151</td><td> 90</td><td>2735</td><td>18.0</td><td>82</td><td>usa</td><td>pontiac phoenix                  </td></tr>\n",
       "\t<tr><td>24.0</td><td>4</td><td>140</td><td> 92</td><td>2865</td><td>16.4</td><td>82</td><td>usa</td><td>ford fairmont futura             </td></tr>\n",
       "\t<tr><td>23.0</td><td>4</td><td>151</td><td> NA</td><td>3035</td><td>20.5</td><td>82</td><td>usa</td><td>amc concord dl                   </td></tr>\n",
       "\t<tr><td>38.0</td><td>4</td><td>105</td><td> 63</td><td>2125</td><td>14.7</td><td>82</td><td>usa</td><td>plymouth horizon miser           </td></tr>\n",
       "\t<tr><td>36.0</td><td>4</td><td> 98</td><td> 70</td><td>2125</td><td>17.3</td><td>82</td><td>usa</td><td>mercury lynx l                   </td></tr>\n",
       "\t<tr><td>25.0</td><td>6</td><td>181</td><td>110</td><td>2945</td><td>16.4</td><td>82</td><td>usa</td><td>buick century limited            </td></tr>\n",
       "\t<tr><td>38.0</td><td>6</td><td>262</td><td> 85</td><td>3015</td><td>17.0</td><td>82</td><td>usa</td><td>oldsmobile cutlass ciera (diesel)</td></tr>\n",
       "\t<tr><td>26.0</td><td>4</td><td>156</td><td> 92</td><td>2585</td><td>14.5</td><td>82</td><td>usa</td><td>chrysler lebaron medallion       </td></tr>\n",
       "\t<tr><td>22.0</td><td>6</td><td>232</td><td>112</td><td>2835</td><td>14.7</td><td>82</td><td>usa</td><td>ford granada l                   </td></tr>\n",
       "\t<tr><td>36.0</td><td>4</td><td>135</td><td> 84</td><td>2370</td><td>13.0</td><td>82</td><td>usa</td><td>dodge charger 2.2                </td></tr>\n",
       "\t<tr><td>27.0</td><td>4</td><td>151</td><td> 90</td><td>2950</td><td>17.3</td><td>82</td><td>usa</td><td>chevrolet camaro                 </td></tr>\n",
       "\t<tr><td>27.0</td><td>4</td><td>140</td><td> 86</td><td>2790</td><td>15.6</td><td>82</td><td>usa</td><td>ford mustang gl                  </td></tr>\n",
       "\t<tr><td>32.0</td><td>4</td><td>135</td><td> 84</td><td>2295</td><td>11.6</td><td>82</td><td>usa</td><td>dodge rampage                    </td></tr>\n",
       "\t<tr><td>28.0</td><td>4</td><td>120</td><td> 79</td><td>2625</td><td>18.6</td><td>82</td><td>usa</td><td>ford ranger                      </td></tr>\n",
       "\t<tr><td>31.0</td><td>4</td><td>119</td><td> 82</td><td>2720</td><td>19.4</td><td>82</td><td>usa</td><td>chevy s-10                       </td></tr>\n",
       "</tbody>\n",
       "</table>\n",
       "</dd>\n",
       "</dl>\n"
      ],
      "text/latex": [
       "\\begin{description}\n",
       "\\item[\\$europe] A tibble: 70 × 9\n",
       "\\begin{tabular}{r|lllllllll}\n",
       " mpg & cylinders & displacement & horsepower & weight & acceleration & model\\_year & origin & name\\\\\n",
       " <dbl> & <dbl> & <dbl> & <dbl> & <dbl> & <dbl> & <dbl> & <chr> & <chr>\\\\\n",
       "\\hline\n",
       "\t 26 & 4 &  97 &  46 & 1835 & 20.5 & 70 & europe & volkswagen 1131 deluxe sedan\\\\\n",
       "\t 25 & 4 & 110 &  87 & 2672 & 17.5 & 70 & europe & peugeot 504                 \\\\\n",
       "\t 24 & 4 & 107 &  90 & 2430 & 14.5 & 70 & europe & audi 100 ls                 \\\\\n",
       "\t 25 & 4 & 104 &  95 & 2375 & 17.5 & 70 & europe & saab 99e                    \\\\\n",
       "\t 26 & 4 & 121 & 113 & 2234 & 12.5 & 70 & europe & bmw 2002                    \\\\\n",
       "\t 28 & 4 & 116 &  90 & 2123 & 14.0 & 71 & europe & opel 1900                   \\\\\n",
       "\t 30 & 4 &  79 &  70 & 2074 & 19.5 & 71 & europe & peugeot 304                 \\\\\n",
       "\t 30 & 4 &  88 &  76 & 2065 & 14.5 & 71 & europe & fiat 124b                   \\\\\n",
       "\t 27 & 4 &  97 &  60 & 1834 & 19.0 & 71 & europe & volkswagen model 111        \\\\\n",
       "\t 23 & 4 &  97 &  54 & 2254 & 23.5 & 72 & europe & volkswagen type 3           \\\\\n",
       "\t 18 & 4 & 121 & 112 & 2933 & 14.5 & 72 & europe & volvo 145e (sw)             \\\\\n",
       "\t 22 & 4 & 121 &  76 & 2511 & 18.0 & 72 & europe & volkswagen 411 (sw)         \\\\\n",
       "\t 21 & 4 & 120 &  87 & 2979 & 19.5 & 72 & europe & peugeot 504 (sw)            \\\\\n",
       "\t 26 & 4 &  96 &  69 & 2189 & 18.0 & 72 & europe & renault 12 (sw)             \\\\\n",
       "\t 26 & 4 &  97 &  46 & 1950 & 21.0 & 73 & europe & volkswagen super beetle     \\\\\n",
       "\t 26 & 4 &  98 &  90 & 2265 & 15.5 & 73 & europe & fiat 124 sport coupe        \\\\\n",
       "\t 29 & 4 &  68 &  49 & 1867 & 19.5 & 73 & europe & fiat 128                    \\\\\n",
       "\t 24 & 4 & 116 &  75 & 2158 & 15.5 & 73 & europe & opel manta                  \\\\\n",
       "\t 20 & 4 & 114 &  91 & 2582 & 14.0 & 73 & europe & audi 100ls                  \\\\\n",
       "\t 19 & 4 & 121 & 112 & 2868 & 15.5 & 73 & europe & volvo 144ea                 \\\\\n",
       "\t 24 & 4 & 121 & 110 & 2660 & 14.0 & 73 & europe & saab 99le                   \\\\\n",
       "\t 29 & 4 &  98 &  83 & 2219 & 16.5 & 74 & europe & audi fox                    \\\\\n",
       "\t 26 & 4 &  79 &  67 & 1963 & 15.5 & 74 & europe & volkswagen dasher           \\\\\n",
       "\t 26 & 4 &  97 &  78 & 2300 & 14.5 & 74 & europe & opel manta                  \\\\\n",
       "\t 24 & 4 &  90 &  75 & 2108 & 15.5 & 74 & europe & fiat 128                    \\\\\n",
       "\t 26 & 4 & 116 &  75 & 2246 & 14.0 & 74 & europe & fiat 124 tc                 \\\\\n",
       "\t 31 & 4 &  79 &  67 & 2000 & 16.0 & 74 & europe & fiat x1.9                   \\\\\n",
       "\t 25 & 4 &  90 &  71 & 2223 & 16.5 & 75 & europe & volkswagen dasher           \\\\\n",
       "\t 29 & 4 &  90 &  70 & 1937 & 14.0 & 75 & europe & volkswagen rabbit           \\\\\n",
       "\t 23 & 4 & 115 &  95 & 2694 & 15.0 & 75 & europe & audi 100ls                  \\\\\n",
       "\t ... & ... & ... & ... & ... & ... & ... & ... & ...\\\\\n",
       "\t 16.5 & 6 & 168 & 120 & 3820 & 16.7 & 76 & europe & mercedes-benz 280s             \\\\\n",
       "\t 36.0 & 4 &  79 &  58 & 1825 & 18.6 & 77 & europe & renault 5 gtl                  \\\\\n",
       "\t 29.0 & 4 &  97 &  78 & 1940 & 14.5 & 77 & europe & volkswagen rabbit custom       \\\\\n",
       "\t 30.5 & 4 &  97 &  78 & 2190 & 14.1 & 77 & europe & volkswagen dasher              \\\\\n",
       "\t 21.5 & 4 & 121 & 110 & 2600 & 12.8 & 77 & europe & bmw 320i                       \\\\\n",
       "\t 43.1 & 4 &  90 &  48 & 1985 & 21.5 & 78 & europe & volkswagen rabbit custom diesel\\\\\n",
       "\t 20.3 & 5 & 131 & 103 & 2830 & 15.9 & 78 & europe & audi 5000                      \\\\\n",
       "\t 17.0 & 6 & 163 & 125 & 3140 & 13.6 & 78 & europe & volvo 264gl                    \\\\\n",
       "\t 21.6 & 4 & 121 & 115 & 2795 & 15.7 & 78 & europe & saab 99gle                     \\\\\n",
       "\t 16.2 & 6 & 163 & 133 & 3410 & 15.8 & 78 & europe & peugeot 604sl                  \\\\\n",
       "\t 31.5 & 4 &  89 &  71 & 1990 & 14.9 & 78 & europe & volkswagen scirocco            \\\\\n",
       "\t 31.9 & 4 &  89 &  71 & 1925 & 14.0 & 79 & europe & vw rabbit custom               \\\\\n",
       "\t 25.4 & 5 & 183 &  77 & 3530 & 20.1 & 79 & europe & mercedes benz 300d             \\\\\n",
       "\t 27.2 & 4 & 141 &  71 & 3190 & 24.8 & 79 & europe & peugeot 504                    \\\\\n",
       "\t 37.3 & 4 &  91 &  69 & 2130 & 14.7 & 79 & europe & fiat strada custom             \\\\\n",
       "\t 41.5 & 4 &  98 &  76 & 2144 & 14.7 & 80 & europe & vw rabbit                      \\\\\n",
       "\t 34.3 & 4 &  97 &  78 & 2188 & 15.8 & 80 & europe & audi 4000                      \\\\\n",
       "\t 44.3 & 4 &  90 &  48 & 2085 & 21.7 & 80 & europe & vw rabbit c (diesel)           \\\\\n",
       "\t 43.4 & 4 &  90 &  48 & 2335 & 23.7 & 80 & europe & vw dasher (diesel)             \\\\\n",
       "\t 36.4 & 5 & 121 &  67 & 2950 & 19.9 & 80 & europe & audi 5000s (diesel)            \\\\\n",
       "\t 30.0 & 4 & 146 &  67 & 3250 & 21.8 & 80 & europe & mercedes-benz 240d             \\\\\n",
       "\t 40.9 & 4 &  85 &  NA & 1835 & 17.3 & 80 & europe & renault lecar deluxe           \\\\\n",
       "\t 29.8 & 4 &  89 &  62 & 1845 & 15.3 & 80 & europe & vokswagen rabbit               \\\\\n",
       "\t 35.0 & 4 & 122 &  88 & 2500 & 15.1 & 80 & europe & triumph tr7 coupe              \\\\\n",
       "\t 33.0 & 4 & 105 &  74 & 2190 & 14.2 & 81 & europe & volkswagen jetta               \\\\\n",
       "\t 34.5 & 4 & 100 &  NA & 2320 & 15.8 & 81 & europe & renault 18i                    \\\\\n",
       "\t 28.1 & 4 & 141 &  80 & 3230 & 20.4 & 81 & europe & peugeot 505s turbo diesel      \\\\\n",
       "\t 30.7 & 6 & 145 &  76 & 3160 & 19.6 & 81 & europe & volvo diesel                   \\\\\n",
       "\t 36.0 & 4 & 105 &  74 & 1980 & 15.3 & 82 & europe & volkswagen rabbit l            \\\\\n",
       "\t 44.0 & 4 &  97 &  52 & 2130 & 24.6 & 82 & europe & vw pickup                      \\\\\n",
       "\\end{tabular}\n",
       "\n",
       "\\item[\\$japan] A tibble: 79 × 9\n",
       "\\begin{tabular}{r|lllllllll}\n",
       " mpg & cylinders & displacement & horsepower & weight & acceleration & model\\_year & origin & name\\\\\n",
       " <dbl> & <dbl> & <dbl> & <dbl> & <dbl> & <dbl> & <dbl> & <chr> & <chr>\\\\\n",
       "\\hline\n",
       "\t 24.0 & 4 & 113 &  95 & 2372 & 15.0 & 70 & japan & toyota corona mark ii      \\\\\n",
       "\t 27.0 & 4 &  97 &  88 & 2130 & 14.5 & 70 & japan & datsun pl510               \\\\\n",
       "\t 27.0 & 4 &  97 &  88 & 2130 & 14.5 & 71 & japan & datsun pl510               \\\\\n",
       "\t 25.0 & 4 & 113 &  95 & 2228 & 14.0 & 71 & japan & toyota corona              \\\\\n",
       "\t 31.0 & 4 &  71 &  65 & 1773 & 19.0 & 71 & japan & toyota corolla 1200        \\\\\n",
       "\t 35.0 & 4 &  72 &  69 & 1613 & 18.0 & 71 & japan & datsun 1200                \\\\\n",
       "\t 24.0 & 4 & 113 &  95 & 2278 & 15.5 & 72 & japan & toyota corona hardtop      \\\\\n",
       "\t 19.0 & 3 &  70 &  97 & 2330 & 13.5 & 72 & japan & mazda rx2 coupe            \\\\\n",
       "\t 28.0 & 4 &  97 &  92 & 2288 & 17.0 & 72 & japan & datsun 510 (sw)            \\\\\n",
       "\t 23.0 & 4 & 120 &  97 & 2506 & 14.5 & 72 & japan & toyouta corona mark ii (sw)\\\\\n",
       "\t 27.0 & 4 &  97 &  88 & 2100 & 16.5 & 72 & japan & toyota corolla 1600 (sw)   \\\\\n",
       "\t 20.0 & 4 &  97 &  88 & 2279 & 19.0 & 73 & japan & toyota carina              \\\\\n",
       "\t 22.0 & 4 & 108 &  94 & 2379 & 16.5 & 73 & japan & datsun 610                 \\\\\n",
       "\t 18.0 & 3 &  70 &  90 & 2124 & 13.5 & 73 & japan & maxda rx3                  \\\\\n",
       "\t 20.0 & 6 & 156 & 122 & 2807 & 13.5 & 73 & japan & toyota mark ii             \\\\\n",
       "\t 31.0 & 4 &  79 &  67 & 1950 & 19.0 & 74 & japan & datsun b210                \\\\\n",
       "\t 32.0 & 4 &  71 &  65 & 1836 & 21.0 & 74 & japan & toyota corolla 1200        \\\\\n",
       "\t 31.0 & 4 &  76 &  52 & 1649 & 16.5 & 74 & japan & toyota corona              \\\\\n",
       "\t 32.0 & 4 &  83 &  61 & 2003 & 19.0 & 74 & japan & datsun 710                 \\\\\n",
       "\t 24.0 & 4 & 120 &  97 & 2489 & 15.0 & 74 & japan & honda civic                \\\\\n",
       "\t 26.0 & 4 & 108 &  93 & 2391 & 15.5 & 74 & japan & subaru                     \\\\\n",
       "\t 29.0 & 4 &  97 &  75 & 2171 & 16.0 & 75 & japan & toyota corolla             \\\\\n",
       "\t 24.0 & 4 & 134 &  96 & 2702 & 13.5 & 75 & japan & toyota corona              \\\\\n",
       "\t 24.0 & 4 & 119 &  97 & 2545 & 17.0 & 75 & japan & datsun 710                 \\\\\n",
       "\t 33.0 & 4 &  91 &  53 & 1795 & 17.5 & 75 & japan & honda civic cvcc           \\\\\n",
       "\t 33.0 & 4 &  91 &  53 & 1795 & 17.4 & 76 & japan & honda civic                \\\\\n",
       "\t 32.0 & 4 &  85 &  70 & 1990 & 17.0 & 76 & japan & datsun b-210               \\\\\n",
       "\t 28.0 & 4 &  97 &  75 & 2155 & 16.4 & 76 & japan & toyota corolla             \\\\\n",
       "\t 19.0 & 6 & 156 & 108 & 2930 & 15.5 & 76 & japan & toyota mark ii             \\\\\n",
       "\t 31.5 & 4 &  98 &  68 & 2045 & 18.5 & 77 & japan & honda accord cvcc          \\\\\n",
       "\t ... & ... & ... & ... & ... & ... & ... & ... & ...\\\\\n",
       "\t 37.0 & 4 & 119 &  92 & 2434 & 15.0 & 80 & japan & datsun 510 hatchback\\\\\n",
       "\t 32.2 & 4 & 108 &  75 & 2265 & 15.2 & 80 & japan & toyota corolla      \\\\\n",
       "\t 46.6 & 4 &  86 &  65 & 2110 & 17.9 & 80 & japan & mazda glc           \\\\\n",
       "\t 40.8 & 4 &  85 &  65 & 2110 & 19.2 & 80 & japan & datsun 210          \\\\\n",
       "\t 44.6 & 4 &  91 &  67 & 1850 & 13.8 & 80 & japan & honda civic 1500 gl \\\\\n",
       "\t 33.8 & 4 &  97 &  67 & 2145 & 18.0 & 80 & japan & subaru dl           \\\\\n",
       "\t 32.7 & 6 & 168 & 132 & 2910 & 11.4 & 80 & japan & datsun 280-zx       \\\\\n",
       "\t 23.7 & 3 &  70 & 100 & 2420 & 12.5 & 80 & japan & mazda rx-7 gs       \\\\\n",
       "\t 32.4 & 4 & 107 &  72 & 2290 & 17.0 & 80 & japan & honda accord        \\\\\n",
       "\t 39.1 & 4 &  79 &  58 & 1755 & 16.9 & 81 & japan & toyota starlet      \\\\\n",
       "\t 35.1 & 4 &  81 &  60 & 1760 & 16.1 & 81 & japan & honda civic 1300    \\\\\n",
       "\t 32.3 & 4 &  97 &  67 & 2065 & 17.8 & 81 & japan & subaru              \\\\\n",
       "\t 37.0 & 4 &  85 &  65 & 1975 & 19.4 & 81 & japan & datsun 210 mpg      \\\\\n",
       "\t 37.7 & 4 &  89 &  62 & 2050 & 17.3 & 81 & japan & toyota tercel       \\\\\n",
       "\t 34.1 & 4 &  91 &  68 & 1985 & 16.0 & 81 & japan & mazda glc 4         \\\\\n",
       "\t 33.7 & 4 & 107 &  75 & 2210 & 14.4 & 81 & japan & honda prelude       \\\\\n",
       "\t 32.4 & 4 & 108 &  75 & 2350 & 16.8 & 81 & japan & toyota corolla      \\\\\n",
       "\t 32.9 & 4 & 119 & 100 & 2615 & 14.8 & 81 & japan & datsun 200sx        \\\\\n",
       "\t 31.6 & 4 & 120 &  74 & 2635 & 18.3 & 81 & japan & mazda 626           \\\\\n",
       "\t 25.4 & 6 & 168 & 116 & 2900 & 12.6 & 81 & japan & toyota cressida     \\\\\n",
       "\t 24.2 & 6 & 146 & 120 & 2930 & 13.8 & 81 & japan & datsun 810 maxima   \\\\\n",
       "\t 37.0 & 4 &  91 &  68 & 2025 & 18.2 & 82 & japan & mazda glc custom l  \\\\\n",
       "\t 31.0 & 4 &  91 &  68 & 1970 & 17.6 & 82 & japan & mazda glc custom    \\\\\n",
       "\t 36.0 & 4 & 120 &  88 & 2160 & 14.5 & 82 & japan & nissan stanza xe    \\\\\n",
       "\t 36.0 & 4 & 107 &  75 & 2205 & 14.5 & 82 & japan & honda accord        \\\\\n",
       "\t 34.0 & 4 & 108 &  70 & 2245 & 16.9 & 82 & japan & toyota corolla      \\\\\n",
       "\t 38.0 & 4 &  91 &  67 & 1965 & 15.0 & 82 & japan & honda civic         \\\\\n",
       "\t 32.0 & 4 &  91 &  67 & 1965 & 15.7 & 82 & japan & honda civic (auto)  \\\\\n",
       "\t 38.0 & 4 &  91 &  67 & 1995 & 16.2 & 82 & japan & datsun 310 gx       \\\\\n",
       "\t 32.0 & 4 & 144 &  96 & 2665 & 13.9 & 82 & japan & toyota celica gt    \\\\\n",
       "\\end{tabular}\n",
       "\n",
       "\\item[\\$usa] A tibble: 249 × 9\n",
       "\\begin{tabular}{r|lllllllll}\n",
       " mpg & cylinders & displacement & horsepower & weight & acceleration & model\\_year & origin & name\\\\\n",
       " <dbl> & <dbl> & <dbl> & <dbl> & <dbl> & <dbl> & <dbl> & <chr> & <chr>\\\\\n",
       "\\hline\n",
       "\t 18 & 8 & 307 & 130 & 3504 & 12.0 & 70 & usa & chevrolet chevelle malibu\\\\\n",
       "\t 15 & 8 & 350 & 165 & 3693 & 11.5 & 70 & usa & buick skylark 320        \\\\\n",
       "\t 18 & 8 & 318 & 150 & 3436 & 11.0 & 70 & usa & plymouth satellite       \\\\\n",
       "\t 16 & 8 & 304 & 150 & 3433 & 12.0 & 70 & usa & amc rebel sst            \\\\\n",
       "\t 17 & 8 & 302 & 140 & 3449 & 10.5 & 70 & usa & ford torino              \\\\\n",
       "\t 15 & 8 & 429 & 198 & 4341 & 10.0 & 70 & usa & ford galaxie 500         \\\\\n",
       "\t 14 & 8 & 454 & 220 & 4354 &  9.0 & 70 & usa & chevrolet impala         \\\\\n",
       "\t 14 & 8 & 440 & 215 & 4312 &  8.5 & 70 & usa & plymouth fury iii        \\\\\n",
       "\t 14 & 8 & 455 & 225 & 4425 & 10.0 & 70 & usa & pontiac catalina         \\\\\n",
       "\t 15 & 8 & 390 & 190 & 3850 &  8.5 & 70 & usa & amc ambassador dpl       \\\\\n",
       "\t 15 & 8 & 383 & 170 & 3563 & 10.0 & 70 & usa & dodge challenger se      \\\\\n",
       "\t 14 & 8 & 340 & 160 & 3609 &  8.0 & 70 & usa & plymouth 'cuda 340       \\\\\n",
       "\t 15 & 8 & 400 & 150 & 3761 &  9.5 & 70 & usa & chevrolet monte carlo    \\\\\n",
       "\t 14 & 8 & 455 & 225 & 3086 & 10.0 & 70 & usa & buick estate wagon (sw)  \\\\\n",
       "\t 22 & 6 & 198 &  95 & 2833 & 15.5 & 70 & usa & plymouth duster          \\\\\n",
       "\t 18 & 6 & 199 &  97 & 2774 & 15.5 & 70 & usa & amc hornet               \\\\\n",
       "\t 21 & 6 & 200 &  85 & 2587 & 16.0 & 70 & usa & ford maverick            \\\\\n",
       "\t 21 & 6 & 199 &  90 & 2648 & 15.0 & 70 & usa & amc gremlin              \\\\\n",
       "\t 10 & 8 & 360 & 215 & 4615 & 14.0 & 70 & usa & ford f250                \\\\\n",
       "\t 10 & 8 & 307 & 200 & 4376 & 15.0 & 70 & usa & chevy c20                \\\\\n",
       "\t 11 & 8 & 318 & 210 & 4382 & 13.5 & 70 & usa & dodge d200               \\\\\n",
       "\t  9 & 8 & 304 & 193 & 4732 & 18.5 & 70 & usa & hi 1200d                 \\\\\n",
       "\t 28 & 4 & 140 &  90 & 2264 & 15.5 & 71 & usa & chevrolet vega 2300      \\\\\n",
       "\t 25 & 4 &  98 &  NA & 2046 & 19.0 & 71 & usa & ford pinto               \\\\\n",
       "\t 19 & 6 & 232 & 100 & 2634 & 13.0 & 71 & usa & amc gremlin              \\\\\n",
       "\t 16 & 6 & 225 & 105 & 3439 & 15.5 & 71 & usa & plymouth satellite custom\\\\\n",
       "\t 17 & 6 & 250 & 100 & 3329 & 15.5 & 71 & usa & chevrolet chevelle malibu\\\\\n",
       "\t 19 & 6 & 250 &  88 & 3302 & 15.5 & 71 & usa & ford torino 500          \\\\\n",
       "\t 18 & 6 & 232 & 100 & 3288 & 15.5 & 71 & usa & amc matador              \\\\\n",
       "\t 14 & 8 & 350 & 165 & 4209 & 12.0 & 71 & usa & chevrolet impala         \\\\\n",
       "\t ... & ... & ... & ... & ... & ... & ... & ... & ...\\\\\n",
       "\t 23.5 & 6 & 173 & 110 & 2725 & 12.6 & 81 & usa & chevrolet citation               \\\\\n",
       "\t 30.0 & 4 & 135 &  84 & 2385 & 12.9 & 81 & usa & plymouth reliant                 \\\\\n",
       "\t 39.0 & 4 &  86 &  64 & 1875 & 16.4 & 81 & usa & plymouth champ                   \\\\\n",
       "\t 34.7 & 4 & 105 &  63 & 2215 & 14.9 & 81 & usa & plymouth horizon 4               \\\\\n",
       "\t 34.4 & 4 &  98 &  65 & 2045 & 16.2 & 81 & usa & ford escort 4w                   \\\\\n",
       "\t 29.9 & 4 &  98 &  65 & 2380 & 20.7 & 81 & usa & ford escort 2h                   \\\\\n",
       "\t 22.4 & 6 & 231 & 110 & 3415 & 15.8 & 81 & usa & buick century                    \\\\\n",
       "\t 26.6 & 8 & 350 & 105 & 3725 & 19.0 & 81 & usa & oldsmobile cutlass ls            \\\\\n",
       "\t 20.2 & 6 & 200 &  88 & 3060 & 17.1 & 81 & usa & ford granada gl                  \\\\\n",
       "\t 17.6 & 6 & 225 &  85 & 3465 & 16.6 & 81 & usa & chrysler lebaron salon           \\\\\n",
       "\t 28.0 & 4 & 112 &  88 & 2605 & 19.6 & 82 & usa & chevrolet cavalier               \\\\\n",
       "\t 27.0 & 4 & 112 &  88 & 2640 & 18.6 & 82 & usa & chevrolet cavalier wagon         \\\\\n",
       "\t 34.0 & 4 & 112 &  88 & 2395 & 18.0 & 82 & usa & chevrolet cavalier 2-door        \\\\\n",
       "\t 31.0 & 4 & 112 &  85 & 2575 & 16.2 & 82 & usa & pontiac j2000 se hatchback       \\\\\n",
       "\t 29.0 & 4 & 135 &  84 & 2525 & 16.0 & 82 & usa & dodge aries se                   \\\\\n",
       "\t 27.0 & 4 & 151 &  90 & 2735 & 18.0 & 82 & usa & pontiac phoenix                  \\\\\n",
       "\t 24.0 & 4 & 140 &  92 & 2865 & 16.4 & 82 & usa & ford fairmont futura             \\\\\n",
       "\t 23.0 & 4 & 151 &  NA & 3035 & 20.5 & 82 & usa & amc concord dl                   \\\\\n",
       "\t 38.0 & 4 & 105 &  63 & 2125 & 14.7 & 82 & usa & plymouth horizon miser           \\\\\n",
       "\t 36.0 & 4 &  98 &  70 & 2125 & 17.3 & 82 & usa & mercury lynx l                   \\\\\n",
       "\t 25.0 & 6 & 181 & 110 & 2945 & 16.4 & 82 & usa & buick century limited            \\\\\n",
       "\t 38.0 & 6 & 262 &  85 & 3015 & 17.0 & 82 & usa & oldsmobile cutlass ciera (diesel)\\\\\n",
       "\t 26.0 & 4 & 156 &  92 & 2585 & 14.5 & 82 & usa & chrysler lebaron medallion       \\\\\n",
       "\t 22.0 & 6 & 232 & 112 & 2835 & 14.7 & 82 & usa & ford granada l                   \\\\\n",
       "\t 36.0 & 4 & 135 &  84 & 2370 & 13.0 & 82 & usa & dodge charger 2.2                \\\\\n",
       "\t 27.0 & 4 & 151 &  90 & 2950 & 17.3 & 82 & usa & chevrolet camaro                 \\\\\n",
       "\t 27.0 & 4 & 140 &  86 & 2790 & 15.6 & 82 & usa & ford mustang gl                  \\\\\n",
       "\t 32.0 & 4 & 135 &  84 & 2295 & 11.6 & 82 & usa & dodge rampage                    \\\\\n",
       "\t 28.0 & 4 & 120 &  79 & 2625 & 18.6 & 82 & usa & ford ranger                      \\\\\n",
       "\t 31.0 & 4 & 119 &  82 & 2720 & 19.4 & 82 & usa & chevy s-10                       \\\\\n",
       "\\end{tabular}\n",
       "\n",
       "\\end{description}\n"
      ],
      "text/markdown": [
       "$europe\n",
       ":   \n",
       "A tibble: 70 × 9\n",
       "\n",
       "| mpg &lt;dbl&gt; | cylinders &lt;dbl&gt; | displacement &lt;dbl&gt; | horsepower &lt;dbl&gt; | weight &lt;dbl&gt; | acceleration &lt;dbl&gt; | model_year &lt;dbl&gt; | origin &lt;chr&gt; | name &lt;chr&gt; |\n",
       "|---|---|---|---|---|---|---|---|---|\n",
       "| 26 | 4 |  97 |  46 | 1835 | 20.5 | 70 | europe | volkswagen 1131 deluxe sedan |\n",
       "| 25 | 4 | 110 |  87 | 2672 | 17.5 | 70 | europe | peugeot 504                  |\n",
       "| 24 | 4 | 107 |  90 | 2430 | 14.5 | 70 | europe | audi 100 ls                  |\n",
       "| 25 | 4 | 104 |  95 | 2375 | 17.5 | 70 | europe | saab 99e                     |\n",
       "| 26 | 4 | 121 | 113 | 2234 | 12.5 | 70 | europe | bmw 2002                     |\n",
       "| 28 | 4 | 116 |  90 | 2123 | 14.0 | 71 | europe | opel 1900                    |\n",
       "| 30 | 4 |  79 |  70 | 2074 | 19.5 | 71 | europe | peugeot 304                  |\n",
       "| 30 | 4 |  88 |  76 | 2065 | 14.5 | 71 | europe | fiat 124b                    |\n",
       "| 27 | 4 |  97 |  60 | 1834 | 19.0 | 71 | europe | volkswagen model 111         |\n",
       "| 23 | 4 |  97 |  54 | 2254 | 23.5 | 72 | europe | volkswagen type 3            |\n",
       "| 18 | 4 | 121 | 112 | 2933 | 14.5 | 72 | europe | volvo 145e (sw)              |\n",
       "| 22 | 4 | 121 |  76 | 2511 | 18.0 | 72 | europe | volkswagen 411 (sw)          |\n",
       "| 21 | 4 | 120 |  87 | 2979 | 19.5 | 72 | europe | peugeot 504 (sw)             |\n",
       "| 26 | 4 |  96 |  69 | 2189 | 18.0 | 72 | europe | renault 12 (sw)              |\n",
       "| 26 | 4 |  97 |  46 | 1950 | 21.0 | 73 | europe | volkswagen super beetle      |\n",
       "| 26 | 4 |  98 |  90 | 2265 | 15.5 | 73 | europe | fiat 124 sport coupe         |\n",
       "| 29 | 4 |  68 |  49 | 1867 | 19.5 | 73 | europe | fiat 128                     |\n",
       "| 24 | 4 | 116 |  75 | 2158 | 15.5 | 73 | europe | opel manta                   |\n",
       "| 20 | 4 | 114 |  91 | 2582 | 14.0 | 73 | europe | audi 100ls                   |\n",
       "| 19 | 4 | 121 | 112 | 2868 | 15.5 | 73 | europe | volvo 144ea                  |\n",
       "| 24 | 4 | 121 | 110 | 2660 | 14.0 | 73 | europe | saab 99le                    |\n",
       "| 29 | 4 |  98 |  83 | 2219 | 16.5 | 74 | europe | audi fox                     |\n",
       "| 26 | 4 |  79 |  67 | 1963 | 15.5 | 74 | europe | volkswagen dasher            |\n",
       "| 26 | 4 |  97 |  78 | 2300 | 14.5 | 74 | europe | opel manta                   |\n",
       "| 24 | 4 |  90 |  75 | 2108 | 15.5 | 74 | europe | fiat 128                     |\n",
       "| 26 | 4 | 116 |  75 | 2246 | 14.0 | 74 | europe | fiat 124 tc                  |\n",
       "| 31 | 4 |  79 |  67 | 2000 | 16.0 | 74 | europe | fiat x1.9                    |\n",
       "| 25 | 4 |  90 |  71 | 2223 | 16.5 | 75 | europe | volkswagen dasher            |\n",
       "| 29 | 4 |  90 |  70 | 1937 | 14.0 | 75 | europe | volkswagen rabbit            |\n",
       "| 23 | 4 | 115 |  95 | 2694 | 15.0 | 75 | europe | audi 100ls                   |\n",
       "| ... | ... | ... | ... | ... | ... | ... | ... | ... |\n",
       "| 16.5 | 6 | 168 | 120 | 3820 | 16.7 | 76 | europe | mercedes-benz 280s              |\n",
       "| 36.0 | 4 |  79 |  58 | 1825 | 18.6 | 77 | europe | renault 5 gtl                   |\n",
       "| 29.0 | 4 |  97 |  78 | 1940 | 14.5 | 77 | europe | volkswagen rabbit custom        |\n",
       "| 30.5 | 4 |  97 |  78 | 2190 | 14.1 | 77 | europe | volkswagen dasher               |\n",
       "| 21.5 | 4 | 121 | 110 | 2600 | 12.8 | 77 | europe | bmw 320i                        |\n",
       "| 43.1 | 4 |  90 |  48 | 1985 | 21.5 | 78 | europe | volkswagen rabbit custom diesel |\n",
       "| 20.3 | 5 | 131 | 103 | 2830 | 15.9 | 78 | europe | audi 5000                       |\n",
       "| 17.0 | 6 | 163 | 125 | 3140 | 13.6 | 78 | europe | volvo 264gl                     |\n",
       "| 21.6 | 4 | 121 | 115 | 2795 | 15.7 | 78 | europe | saab 99gle                      |\n",
       "| 16.2 | 6 | 163 | 133 | 3410 | 15.8 | 78 | europe | peugeot 604sl                   |\n",
       "| 31.5 | 4 |  89 |  71 | 1990 | 14.9 | 78 | europe | volkswagen scirocco             |\n",
       "| 31.9 | 4 |  89 |  71 | 1925 | 14.0 | 79 | europe | vw rabbit custom                |\n",
       "| 25.4 | 5 | 183 |  77 | 3530 | 20.1 | 79 | europe | mercedes benz 300d              |\n",
       "| 27.2 | 4 | 141 |  71 | 3190 | 24.8 | 79 | europe | peugeot 504                     |\n",
       "| 37.3 | 4 |  91 |  69 | 2130 | 14.7 | 79 | europe | fiat strada custom              |\n",
       "| 41.5 | 4 |  98 |  76 | 2144 | 14.7 | 80 | europe | vw rabbit                       |\n",
       "| 34.3 | 4 |  97 |  78 | 2188 | 15.8 | 80 | europe | audi 4000                       |\n",
       "| 44.3 | 4 |  90 |  48 | 2085 | 21.7 | 80 | europe | vw rabbit c (diesel)            |\n",
       "| 43.4 | 4 |  90 |  48 | 2335 | 23.7 | 80 | europe | vw dasher (diesel)              |\n",
       "| 36.4 | 5 | 121 |  67 | 2950 | 19.9 | 80 | europe | audi 5000s (diesel)             |\n",
       "| 30.0 | 4 | 146 |  67 | 3250 | 21.8 | 80 | europe | mercedes-benz 240d              |\n",
       "| 40.9 | 4 |  85 |  NA | 1835 | 17.3 | 80 | europe | renault lecar deluxe            |\n",
       "| 29.8 | 4 |  89 |  62 | 1845 | 15.3 | 80 | europe | vokswagen rabbit                |\n",
       "| 35.0 | 4 | 122 |  88 | 2500 | 15.1 | 80 | europe | triumph tr7 coupe               |\n",
       "| 33.0 | 4 | 105 |  74 | 2190 | 14.2 | 81 | europe | volkswagen jetta                |\n",
       "| 34.5 | 4 | 100 |  NA | 2320 | 15.8 | 81 | europe | renault 18i                     |\n",
       "| 28.1 | 4 | 141 |  80 | 3230 | 20.4 | 81 | europe | peugeot 505s turbo diesel       |\n",
       "| 30.7 | 6 | 145 |  76 | 3160 | 19.6 | 81 | europe | volvo diesel                    |\n",
       "| 36.0 | 4 | 105 |  74 | 1980 | 15.3 | 82 | europe | volkswagen rabbit l             |\n",
       "| 44.0 | 4 |  97 |  52 | 2130 | 24.6 | 82 | europe | vw pickup                       |\n",
       "\n",
       "\n",
       "$japan\n",
       ":   \n",
       "A tibble: 79 × 9\n",
       "\n",
       "| mpg &lt;dbl&gt; | cylinders &lt;dbl&gt; | displacement &lt;dbl&gt; | horsepower &lt;dbl&gt; | weight &lt;dbl&gt; | acceleration &lt;dbl&gt; | model_year &lt;dbl&gt; | origin &lt;chr&gt; | name &lt;chr&gt; |\n",
       "|---|---|---|---|---|---|---|---|---|\n",
       "| 24.0 | 4 | 113 |  95 | 2372 | 15.0 | 70 | japan | toyota corona mark ii       |\n",
       "| 27.0 | 4 |  97 |  88 | 2130 | 14.5 | 70 | japan | datsun pl510                |\n",
       "| 27.0 | 4 |  97 |  88 | 2130 | 14.5 | 71 | japan | datsun pl510                |\n",
       "| 25.0 | 4 | 113 |  95 | 2228 | 14.0 | 71 | japan | toyota corona               |\n",
       "| 31.0 | 4 |  71 |  65 | 1773 | 19.0 | 71 | japan | toyota corolla 1200         |\n",
       "| 35.0 | 4 |  72 |  69 | 1613 | 18.0 | 71 | japan | datsun 1200                 |\n",
       "| 24.0 | 4 | 113 |  95 | 2278 | 15.5 | 72 | japan | toyota corona hardtop       |\n",
       "| 19.0 | 3 |  70 |  97 | 2330 | 13.5 | 72 | japan | mazda rx2 coupe             |\n",
       "| 28.0 | 4 |  97 |  92 | 2288 | 17.0 | 72 | japan | datsun 510 (sw)             |\n",
       "| 23.0 | 4 | 120 |  97 | 2506 | 14.5 | 72 | japan | toyouta corona mark ii (sw) |\n",
       "| 27.0 | 4 |  97 |  88 | 2100 | 16.5 | 72 | japan | toyota corolla 1600 (sw)    |\n",
       "| 20.0 | 4 |  97 |  88 | 2279 | 19.0 | 73 | japan | toyota carina               |\n",
       "| 22.0 | 4 | 108 |  94 | 2379 | 16.5 | 73 | japan | datsun 610                  |\n",
       "| 18.0 | 3 |  70 |  90 | 2124 | 13.5 | 73 | japan | maxda rx3                   |\n",
       "| 20.0 | 6 | 156 | 122 | 2807 | 13.5 | 73 | japan | toyota mark ii              |\n",
       "| 31.0 | 4 |  79 |  67 | 1950 | 19.0 | 74 | japan | datsun b210                 |\n",
       "| 32.0 | 4 |  71 |  65 | 1836 | 21.0 | 74 | japan | toyota corolla 1200         |\n",
       "| 31.0 | 4 |  76 |  52 | 1649 | 16.5 | 74 | japan | toyota corona               |\n",
       "| 32.0 | 4 |  83 |  61 | 2003 | 19.0 | 74 | japan | datsun 710                  |\n",
       "| 24.0 | 4 | 120 |  97 | 2489 | 15.0 | 74 | japan | honda civic                 |\n",
       "| 26.0 | 4 | 108 |  93 | 2391 | 15.5 | 74 | japan | subaru                      |\n",
       "| 29.0 | 4 |  97 |  75 | 2171 | 16.0 | 75 | japan | toyota corolla              |\n",
       "| 24.0 | 4 | 134 |  96 | 2702 | 13.5 | 75 | japan | toyota corona               |\n",
       "| 24.0 | 4 | 119 |  97 | 2545 | 17.0 | 75 | japan | datsun 710                  |\n",
       "| 33.0 | 4 |  91 |  53 | 1795 | 17.5 | 75 | japan | honda civic cvcc            |\n",
       "| 33.0 | 4 |  91 |  53 | 1795 | 17.4 | 76 | japan | honda civic                 |\n",
       "| 32.0 | 4 |  85 |  70 | 1990 | 17.0 | 76 | japan | datsun b-210                |\n",
       "| 28.0 | 4 |  97 |  75 | 2155 | 16.4 | 76 | japan | toyota corolla              |\n",
       "| 19.0 | 6 | 156 | 108 | 2930 | 15.5 | 76 | japan | toyota mark ii              |\n",
       "| 31.5 | 4 |  98 |  68 | 2045 | 18.5 | 77 | japan | honda accord cvcc           |\n",
       "| ... | ... | ... | ... | ... | ... | ... | ... | ... |\n",
       "| 37.0 | 4 | 119 |  92 | 2434 | 15.0 | 80 | japan | datsun 510 hatchback |\n",
       "| 32.2 | 4 | 108 |  75 | 2265 | 15.2 | 80 | japan | toyota corolla       |\n",
       "| 46.6 | 4 |  86 |  65 | 2110 | 17.9 | 80 | japan | mazda glc            |\n",
       "| 40.8 | 4 |  85 |  65 | 2110 | 19.2 | 80 | japan | datsun 210           |\n",
       "| 44.6 | 4 |  91 |  67 | 1850 | 13.8 | 80 | japan | honda civic 1500 gl  |\n",
       "| 33.8 | 4 |  97 |  67 | 2145 | 18.0 | 80 | japan | subaru dl            |\n",
       "| 32.7 | 6 | 168 | 132 | 2910 | 11.4 | 80 | japan | datsun 280-zx        |\n",
       "| 23.7 | 3 |  70 | 100 | 2420 | 12.5 | 80 | japan | mazda rx-7 gs        |\n",
       "| 32.4 | 4 | 107 |  72 | 2290 | 17.0 | 80 | japan | honda accord         |\n",
       "| 39.1 | 4 |  79 |  58 | 1755 | 16.9 | 81 | japan | toyota starlet       |\n",
       "| 35.1 | 4 |  81 |  60 | 1760 | 16.1 | 81 | japan | honda civic 1300     |\n",
       "| 32.3 | 4 |  97 |  67 | 2065 | 17.8 | 81 | japan | subaru               |\n",
       "| 37.0 | 4 |  85 |  65 | 1975 | 19.4 | 81 | japan | datsun 210 mpg       |\n",
       "| 37.7 | 4 |  89 |  62 | 2050 | 17.3 | 81 | japan | toyota tercel        |\n",
       "| 34.1 | 4 |  91 |  68 | 1985 | 16.0 | 81 | japan | mazda glc 4          |\n",
       "| 33.7 | 4 | 107 |  75 | 2210 | 14.4 | 81 | japan | honda prelude        |\n",
       "| 32.4 | 4 | 108 |  75 | 2350 | 16.8 | 81 | japan | toyota corolla       |\n",
       "| 32.9 | 4 | 119 | 100 | 2615 | 14.8 | 81 | japan | datsun 200sx         |\n",
       "| 31.6 | 4 | 120 |  74 | 2635 | 18.3 | 81 | japan | mazda 626            |\n",
       "| 25.4 | 6 | 168 | 116 | 2900 | 12.6 | 81 | japan | toyota cressida      |\n",
       "| 24.2 | 6 | 146 | 120 | 2930 | 13.8 | 81 | japan | datsun 810 maxima    |\n",
       "| 37.0 | 4 |  91 |  68 | 2025 | 18.2 | 82 | japan | mazda glc custom l   |\n",
       "| 31.0 | 4 |  91 |  68 | 1970 | 17.6 | 82 | japan | mazda glc custom     |\n",
       "| 36.0 | 4 | 120 |  88 | 2160 | 14.5 | 82 | japan | nissan stanza xe     |\n",
       "| 36.0 | 4 | 107 |  75 | 2205 | 14.5 | 82 | japan | honda accord         |\n",
       "| 34.0 | 4 | 108 |  70 | 2245 | 16.9 | 82 | japan | toyota corolla       |\n",
       "| 38.0 | 4 |  91 |  67 | 1965 | 15.0 | 82 | japan | honda civic          |\n",
       "| 32.0 | 4 |  91 |  67 | 1965 | 15.7 | 82 | japan | honda civic (auto)   |\n",
       "| 38.0 | 4 |  91 |  67 | 1995 | 16.2 | 82 | japan | datsun 310 gx        |\n",
       "| 32.0 | 4 | 144 |  96 | 2665 | 13.9 | 82 | japan | toyota celica gt     |\n",
       "\n",
       "\n",
       "$usa\n",
       ":   \n",
       "A tibble: 249 × 9\n",
       "\n",
       "| mpg &lt;dbl&gt; | cylinders &lt;dbl&gt; | displacement &lt;dbl&gt; | horsepower &lt;dbl&gt; | weight &lt;dbl&gt; | acceleration &lt;dbl&gt; | model_year &lt;dbl&gt; | origin &lt;chr&gt; | name &lt;chr&gt; |\n",
       "|---|---|---|---|---|---|---|---|---|\n",
       "| 18 | 8 | 307 | 130 | 3504 | 12.0 | 70 | usa | chevrolet chevelle malibu |\n",
       "| 15 | 8 | 350 | 165 | 3693 | 11.5 | 70 | usa | buick skylark 320         |\n",
       "| 18 | 8 | 318 | 150 | 3436 | 11.0 | 70 | usa | plymouth satellite        |\n",
       "| 16 | 8 | 304 | 150 | 3433 | 12.0 | 70 | usa | amc rebel sst             |\n",
       "| 17 | 8 | 302 | 140 | 3449 | 10.5 | 70 | usa | ford torino               |\n",
       "| 15 | 8 | 429 | 198 | 4341 | 10.0 | 70 | usa | ford galaxie 500          |\n",
       "| 14 | 8 | 454 | 220 | 4354 |  9.0 | 70 | usa | chevrolet impala          |\n",
       "| 14 | 8 | 440 | 215 | 4312 |  8.5 | 70 | usa | plymouth fury iii         |\n",
       "| 14 | 8 | 455 | 225 | 4425 | 10.0 | 70 | usa | pontiac catalina          |\n",
       "| 15 | 8 | 390 | 190 | 3850 |  8.5 | 70 | usa | amc ambassador dpl        |\n",
       "| 15 | 8 | 383 | 170 | 3563 | 10.0 | 70 | usa | dodge challenger se       |\n",
       "| 14 | 8 | 340 | 160 | 3609 |  8.0 | 70 | usa | plymouth 'cuda 340        |\n",
       "| 15 | 8 | 400 | 150 | 3761 |  9.5 | 70 | usa | chevrolet monte carlo     |\n",
       "| 14 | 8 | 455 | 225 | 3086 | 10.0 | 70 | usa | buick estate wagon (sw)   |\n",
       "| 22 | 6 | 198 |  95 | 2833 | 15.5 | 70 | usa | plymouth duster           |\n",
       "| 18 | 6 | 199 |  97 | 2774 | 15.5 | 70 | usa | amc hornet                |\n",
       "| 21 | 6 | 200 |  85 | 2587 | 16.0 | 70 | usa | ford maverick             |\n",
       "| 21 | 6 | 199 |  90 | 2648 | 15.0 | 70 | usa | amc gremlin               |\n",
       "| 10 | 8 | 360 | 215 | 4615 | 14.0 | 70 | usa | ford f250                 |\n",
       "| 10 | 8 | 307 | 200 | 4376 | 15.0 | 70 | usa | chevy c20                 |\n",
       "| 11 | 8 | 318 | 210 | 4382 | 13.5 | 70 | usa | dodge d200                |\n",
       "|  9 | 8 | 304 | 193 | 4732 | 18.5 | 70 | usa | hi 1200d                  |\n",
       "| 28 | 4 | 140 |  90 | 2264 | 15.5 | 71 | usa | chevrolet vega 2300       |\n",
       "| 25 | 4 |  98 |  NA | 2046 | 19.0 | 71 | usa | ford pinto                |\n",
       "| 19 | 6 | 232 | 100 | 2634 | 13.0 | 71 | usa | amc gremlin               |\n",
       "| 16 | 6 | 225 | 105 | 3439 | 15.5 | 71 | usa | plymouth satellite custom |\n",
       "| 17 | 6 | 250 | 100 | 3329 | 15.5 | 71 | usa | chevrolet chevelle malibu |\n",
       "| 19 | 6 | 250 |  88 | 3302 | 15.5 | 71 | usa | ford torino 500           |\n",
       "| 18 | 6 | 232 | 100 | 3288 | 15.5 | 71 | usa | amc matador               |\n",
       "| 14 | 8 | 350 | 165 | 4209 | 12.0 | 71 | usa | chevrolet impala          |\n",
       "| ... | ... | ... | ... | ... | ... | ... | ... | ... |\n",
       "| 23.5 | 6 | 173 | 110 | 2725 | 12.6 | 81 | usa | chevrolet citation                |\n",
       "| 30.0 | 4 | 135 |  84 | 2385 | 12.9 | 81 | usa | plymouth reliant                  |\n",
       "| 39.0 | 4 |  86 |  64 | 1875 | 16.4 | 81 | usa | plymouth champ                    |\n",
       "| 34.7 | 4 | 105 |  63 | 2215 | 14.9 | 81 | usa | plymouth horizon 4                |\n",
       "| 34.4 | 4 |  98 |  65 | 2045 | 16.2 | 81 | usa | ford escort 4w                    |\n",
       "| 29.9 | 4 |  98 |  65 | 2380 | 20.7 | 81 | usa | ford escort 2h                    |\n",
       "| 22.4 | 6 | 231 | 110 | 3415 | 15.8 | 81 | usa | buick century                     |\n",
       "| 26.6 | 8 | 350 | 105 | 3725 | 19.0 | 81 | usa | oldsmobile cutlass ls             |\n",
       "| 20.2 | 6 | 200 |  88 | 3060 | 17.1 | 81 | usa | ford granada gl                   |\n",
       "| 17.6 | 6 | 225 |  85 | 3465 | 16.6 | 81 | usa | chrysler lebaron salon            |\n",
       "| 28.0 | 4 | 112 |  88 | 2605 | 19.6 | 82 | usa | chevrolet cavalier                |\n",
       "| 27.0 | 4 | 112 |  88 | 2640 | 18.6 | 82 | usa | chevrolet cavalier wagon          |\n",
       "| 34.0 | 4 | 112 |  88 | 2395 | 18.0 | 82 | usa | chevrolet cavalier 2-door         |\n",
       "| 31.0 | 4 | 112 |  85 | 2575 | 16.2 | 82 | usa | pontiac j2000 se hatchback        |\n",
       "| 29.0 | 4 | 135 |  84 | 2525 | 16.0 | 82 | usa | dodge aries se                    |\n",
       "| 27.0 | 4 | 151 |  90 | 2735 | 18.0 | 82 | usa | pontiac phoenix                   |\n",
       "| 24.0 | 4 | 140 |  92 | 2865 | 16.4 | 82 | usa | ford fairmont futura              |\n",
       "| 23.0 | 4 | 151 |  NA | 3035 | 20.5 | 82 | usa | amc concord dl                    |\n",
       "| 38.0 | 4 | 105 |  63 | 2125 | 14.7 | 82 | usa | plymouth horizon miser            |\n",
       "| 36.0 | 4 |  98 |  70 | 2125 | 17.3 | 82 | usa | mercury lynx l                    |\n",
       "| 25.0 | 6 | 181 | 110 | 2945 | 16.4 | 82 | usa | buick century limited             |\n",
       "| 38.0 | 6 | 262 |  85 | 3015 | 17.0 | 82 | usa | oldsmobile cutlass ciera (diesel) |\n",
       "| 26.0 | 4 | 156 |  92 | 2585 | 14.5 | 82 | usa | chrysler lebaron medallion        |\n",
       "| 22.0 | 6 | 232 | 112 | 2835 | 14.7 | 82 | usa | ford granada l                    |\n",
       "| 36.0 | 4 | 135 |  84 | 2370 | 13.0 | 82 | usa | dodge charger 2.2                 |\n",
       "| 27.0 | 4 | 151 |  90 | 2950 | 17.3 | 82 | usa | chevrolet camaro                  |\n",
       "| 27.0 | 4 | 140 |  86 | 2790 | 15.6 | 82 | usa | ford mustang gl                   |\n",
       "| 32.0 | 4 | 135 |  84 | 2295 | 11.6 | 82 | usa | dodge rampage                     |\n",
       "| 28.0 | 4 | 120 |  79 | 2625 | 18.6 | 82 | usa | ford ranger                       |\n",
       "| 31.0 | 4 | 119 |  82 | 2720 | 19.4 | 82 | usa | chevy s-10                        |\n",
       "\n",
       "\n",
       "\n",
       "\n"
      ],
      "text/plain": [
       "$europe\n",
       "\u001b[90m# A tibble: 70 x 9\u001b[39m\n",
       "     mpg cylinders displacement horsepower weight acceleration model_year origin\n",
       "   \u001b[3m\u001b[90m<dbl>\u001b[39m\u001b[23m     \u001b[3m\u001b[90m<dbl>\u001b[39m\u001b[23m        \u001b[3m\u001b[90m<dbl>\u001b[39m\u001b[23m      \u001b[3m\u001b[90m<dbl>\u001b[39m\u001b[23m  \u001b[3m\u001b[90m<dbl>\u001b[39m\u001b[23m        \u001b[3m\u001b[90m<dbl>\u001b[39m\u001b[23m      \u001b[3m\u001b[90m<dbl>\u001b[39m\u001b[23m \u001b[3m\u001b[90m<chr>\u001b[39m\u001b[23m \n",
       "\u001b[90m 1\u001b[39m    26         4           97         46   \u001b[4m1\u001b[24m835         20.5         70 europe\n",
       "\u001b[90m 2\u001b[39m    25         4          110         87   \u001b[4m2\u001b[24m672         17.5         70 europe\n",
       "\u001b[90m 3\u001b[39m    24         4          107         90   \u001b[4m2\u001b[24m430         14.5         70 europe\n",
       "\u001b[90m 4\u001b[39m    25         4          104         95   \u001b[4m2\u001b[24m375         17.5         70 europe\n",
       "\u001b[90m 5\u001b[39m    26         4          121        113   \u001b[4m2\u001b[24m234         12.5         70 europe\n",
       "\u001b[90m 6\u001b[39m    28         4          116         90   \u001b[4m2\u001b[24m123         14           71 europe\n",
       "\u001b[90m 7\u001b[39m    30         4           79         70   \u001b[4m2\u001b[24m074         19.5         71 europe\n",
       "\u001b[90m 8\u001b[39m    30         4           88         76   \u001b[4m2\u001b[24m065         14.5         71 europe\n",
       "\u001b[90m 9\u001b[39m    27         4           97         60   \u001b[4m1\u001b[24m834         19           71 europe\n",
       "\u001b[90m10\u001b[39m    23         4           97         54   \u001b[4m2\u001b[24m254         23.5         72 europe\n",
       "\u001b[90m# ... with 60 more rows, and 1 more variable: name \u001b[3m\u001b[90m<chr>\u001b[90m\u001b[23m\u001b[39m\n",
       "\n",
       "$japan\n",
       "\u001b[90m# A tibble: 79 x 9\u001b[39m\n",
       "     mpg cylinders displacement horsepower weight acceleration model_year origin\n",
       "   \u001b[3m\u001b[90m<dbl>\u001b[39m\u001b[23m     \u001b[3m\u001b[90m<dbl>\u001b[39m\u001b[23m        \u001b[3m\u001b[90m<dbl>\u001b[39m\u001b[23m      \u001b[3m\u001b[90m<dbl>\u001b[39m\u001b[23m  \u001b[3m\u001b[90m<dbl>\u001b[39m\u001b[23m        \u001b[3m\u001b[90m<dbl>\u001b[39m\u001b[23m      \u001b[3m\u001b[90m<dbl>\u001b[39m\u001b[23m \u001b[3m\u001b[90m<chr>\u001b[39m\u001b[23m \n",
       "\u001b[90m 1\u001b[39m    24         4          113         95   \u001b[4m2\u001b[24m372         15           70 japan \n",
       "\u001b[90m 2\u001b[39m    27         4           97         88   \u001b[4m2\u001b[24m130         14.5         70 japan \n",
       "\u001b[90m 3\u001b[39m    27         4           97         88   \u001b[4m2\u001b[24m130         14.5         71 japan \n",
       "\u001b[90m 4\u001b[39m    25         4          113         95   \u001b[4m2\u001b[24m228         14           71 japan \n",
       "\u001b[90m 5\u001b[39m    31         4           71         65   \u001b[4m1\u001b[24m773         19           71 japan \n",
       "\u001b[90m 6\u001b[39m    35         4           72         69   \u001b[4m1\u001b[24m613         18           71 japan \n",
       "\u001b[90m 7\u001b[39m    24         4          113         95   \u001b[4m2\u001b[24m278         15.5         72 japan \n",
       "\u001b[90m 8\u001b[39m    19         3           70         97   \u001b[4m2\u001b[24m330         13.5         72 japan \n",
       "\u001b[90m 9\u001b[39m    28         4           97         92   \u001b[4m2\u001b[24m288         17           72 japan \n",
       "\u001b[90m10\u001b[39m    23         4          120         97   \u001b[4m2\u001b[24m506         14.5         72 japan \n",
       "\u001b[90m# ... with 69 more rows, and 1 more variable: name \u001b[3m\u001b[90m<chr>\u001b[90m\u001b[23m\u001b[39m\n",
       "\n",
       "$usa\n",
       "\u001b[90m# A tibble: 249 x 9\u001b[39m\n",
       "     mpg cylinders displacement horsepower weight acceleration model_year origin\n",
       "   \u001b[3m\u001b[90m<dbl>\u001b[39m\u001b[23m     \u001b[3m\u001b[90m<dbl>\u001b[39m\u001b[23m        \u001b[3m\u001b[90m<dbl>\u001b[39m\u001b[23m      \u001b[3m\u001b[90m<dbl>\u001b[39m\u001b[23m  \u001b[3m\u001b[90m<dbl>\u001b[39m\u001b[23m        \u001b[3m\u001b[90m<dbl>\u001b[39m\u001b[23m      \u001b[3m\u001b[90m<dbl>\u001b[39m\u001b[23m \u001b[3m\u001b[90m<chr>\u001b[39m\u001b[23m \n",
       "\u001b[90m 1\u001b[39m    18         8          307        130   \u001b[4m3\u001b[24m504         12           70 usa   \n",
       "\u001b[90m 2\u001b[39m    15         8          350        165   \u001b[4m3\u001b[24m693         11.5         70 usa   \n",
       "\u001b[90m 3\u001b[39m    18         8          318        150   \u001b[4m3\u001b[24m436         11           70 usa   \n",
       "\u001b[90m 4\u001b[39m    16         8          304        150   \u001b[4m3\u001b[24m433         12           70 usa   \n",
       "\u001b[90m 5\u001b[39m    17         8          302        140   \u001b[4m3\u001b[24m449         10.5         70 usa   \n",
       "\u001b[90m 6\u001b[39m    15         8          429        198   \u001b[4m4\u001b[24m341         10           70 usa   \n",
       "\u001b[90m 7\u001b[39m    14         8          454        220   \u001b[4m4\u001b[24m354          9           70 usa   \n",
       "\u001b[90m 8\u001b[39m    14         8          440        215   \u001b[4m4\u001b[24m312          8.5         70 usa   \n",
       "\u001b[90m 9\u001b[39m    14         8          455        225   \u001b[4m4\u001b[24m425         10           70 usa   \n",
       "\u001b[90m10\u001b[39m    15         8          390        190   \u001b[4m3\u001b[24m850          8.5         70 usa   \n",
       "\u001b[90m# ... with 239 more rows, and 1 more variable: name \u001b[3m\u001b[90m<chr>\u001b[90m\u001b[23m\u001b[39m\n"
      ]
     },
     "metadata": {},
     "output_type": "display_data"
    }
   ],
   "source": [
    "mpg_list <- split(mpg, mpg$origin)\n",
    "mpg_list"
   ]
  },
  {
   "cell_type": "code",
   "execution_count": 20,
   "metadata": {},
   "outputs": [
    {
     "ename": "ERROR",
     "evalue": "Error in mpg_list[i]: invalid subscript type 'list'\n",
     "output_type": "error",
     "traceback": [
      "Error in mpg_list[i]: invalid subscript type 'list'\nTraceback:\n",
      "1. plot(mpg_list[i]$weight)"
     ]
    }
   ],
   "source": [
    "for (i in mpg_list){\n",
    "    plot(mpg_list[i]$weight)\n",
    "}"
   ]
  },
  {
   "cell_type": "code",
   "execution_count": 30,
   "metadata": {},
   "outputs": [
    {
     "ename": "ERROR",
     "evalue": "Error in parse(text = x, srcfile = src): <text>:1:19: unexpected '['\n1: mpg_list[['japan'][\n                      ^\n",
     "output_type": "error",
     "traceback": [
      "Error in parse(text = x, srcfile = src): <text>:1:19: unexpected '['\n1: mpg_list[['japan'][\n                      ^\nTraceback:\n"
     ]
    }
   ],
   "source": [
    "mpg_list[['japan']['weight']]"
   ]
  },
  {
   "cell_type": "code",
   "execution_count": 33,
   "metadata": {},
   "outputs": [
    {
     "ename": "ERROR",
     "evalue": "Error in eval(expr, envir, enclos): object 'weight' not found\n",
     "output_type": "error",
     "traceback": [
      "Error in eval(expr, envir, enclos): object 'weight' not found\nTraceback:\n"
     ]
    }
   ],
   "source": [
    "mpg_list[[japan]][[weight]]"
   ]
  },
  {
   "cell_type": "code",
   "execution_count": null,
   "metadata": {},
   "outputs": [],
   "source": [
    "w"
   ]
  },
  {
   "cell_type": "code",
   "execution_count": 16,
   "metadata": {},
   "outputs": [
    {
     "data": {
      "text/html": [
       "<ol class=list-inline>\n",
       "\t<li>'europe'</li>\n",
       "\t<li>'japan'</li>\n",
       "\t<li>'usa'</li>\n",
       "</ol>\n"
      ],
      "text/latex": [
       "\\begin{enumerate*}\n",
       "\\item 'europe'\n",
       "\\item 'japan'\n",
       "\\item 'usa'\n",
       "\\end{enumerate*}\n"
      ],
      "text/markdown": [
       "1. 'europe'\n",
       "2. 'japan'\n",
       "3. 'usa'\n",
       "\n",
       "\n"
      ],
      "text/plain": [
       "[1] \"europe\" \"japan\"  \"usa\"   "
      ]
     },
     "metadata": {},
     "output_type": "display_data"
    }
   ],
   "source": [
    "mpg_categories = 'mpg-origins.xlsx'\n",
    "write.xlsx(x = mpg_list, file = 'mpg-origins.xlsx', asTable = TRUE)\n",
    "\n",
    "\n"
   ]
  },
  {
   "cell_type": "code",
   "execution_count": null,
   "metadata": {},
   "outputs": [],
   "source": [
    "# Let's include plots in each worksheet too"
   ]
  },
  {
   "cell_type": "code",
   "execution_count": null,
   "metadata": {},
   "outputs": [],
   "source": [
    "openXL(mpg_categories)"
   ]
  },
  {
   "cell_type": "markdown",
   "metadata": {},
   "source": [
    "# Questions?"
   ]
  },
  {
   "cell_type": "markdown",
   "metadata": {},
   "source": [
    "# Recommended resources:  \n",
    "\n"
   ]
  },
  {
   "cell_type": "markdown",
   "metadata": {},
   "source": [
    "## 1. `browseVignettes()`"
   ]
  },
  {
   "cell_type": "code",
   "execution_count": null,
   "metadata": {},
   "outputs": [],
   "source": [
    "# This takes a while to run in Jupyter...\n",
    "browseVignettes(package = c('readxl', 'openxlsx'))"
   ]
  },
  {
   "cell_type": "markdown",
   "metadata": {},
   "source": [
    "## 2. [R & Excel -- LondonR meetup presentation by UBS analysts](https://www.londonr.org/wp-content/uploads/sites/2/presentations/LondonR_-_R_&_Excel_-_David_Jessop_-_20170713.pdf)\n",
    "\n",
    "\n",
    "![UBS R Excel](images/ubs-r-excel.png)"
   ]
  },
  {
   "cell_type": "markdown",
   "metadata": {},
   "source": [
    "## 3. \"How to run R in Jupyter?\"\n",
    "\n",
    "Download `IRkernel` package ([instructions here](https://irkernel.github.io/installation/))"
   ]
  },
  {
   "cell_type": "markdown",
   "metadata": {},
   "source": [
    "## 4. \"How to run R with Binder?\"\n",
    "\n",
    "- You need a `runtime.txt` file and optionally an `install.R` file\n",
    "- [Full instructions here](https://github.com/binder-examples/r)"
   ]
  },
  {
   "cell_type": "markdown",
   "metadata": {},
   "source": [
    "# THANK YOU\n",
    "\n",
    "### George Mount\n",
    "### Stringfest Analytics\n",
    "### [stringfestanalytics.com](https://georgejmount.com)\n",
    "### [linkedin.com/in/gjmount](https://www.linkedin.com/in/gjmount/)\n"
   ]
  },
  {
   "cell_type": "code",
   "execution_count": null,
   "metadata": {},
   "outputs": [],
   "source": []
  }
 ],
 "metadata": {
  "kernelspec": {
   "display_name": "R",
   "language": "R",
   "name": "ir"
  },
  "language_info": {
   "codemirror_mode": "r",
   "file_extension": ".r",
   "mimetype": "text/x-r-source",
   "name": "R",
   "pygments_lexer": "r",
   "version": "4.0.2"
  }
 },
 "nbformat": 4,
 "nbformat_minor": 4
}
